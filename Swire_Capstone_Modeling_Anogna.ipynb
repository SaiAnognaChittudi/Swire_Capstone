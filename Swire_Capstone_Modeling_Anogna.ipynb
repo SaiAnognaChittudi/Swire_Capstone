{
  "cells": [
    {
      "cell_type": "markdown",
      "metadata": {
        "id": "USYNaFdSXC6S"
      },
      "source": [
        "# Table of Contents\n",
        "1. [Introduction](#intro)\n",
        "2. [Installing required packages](#install)\n",
        "3. [Loading  Datasets and Data Description](#data)\n",
        "    * 3.1.[Fact Market Demand Data](#fact)\n",
        "    * 3.2.[Customer Demographics Data](#demograpic)\n",
        "    * 3.3.[Zip Code Data](#zip)\n",
        "    * 3.4 [Missing Data](#missing)\n",
        "4. [Modeling](#modeling)  \n",
        "    * 4.1.[Linear Regression](#lr)\n",
        "        - 4.1.1 [Encoding](#encode)\n",
        "    * 4.1.[Autoregression (AR) Model](#ar)\n",
        "    * 4.2.[ARIMA Model](#arima)\n",
        "    * 5.1.[Prophet Model](#prophet)\n",
        "        - 5.1.1 [Holiday Data](#holiday)\n",
        "7. [Conclusion](#Conclusion)\n",
        "8. [Group Member Contribution](#group)"
      ]
    },
    {
      "cell_type": "markdown",
      "metadata": {
        "id": "e4mh1gcHWlsf"
      },
      "source": [
        "# <a name=\"intro\"></a> 1. Introduction"
      ]
    },
    {
      "cell_type": "markdown",
      "metadata": {
        "id": "V3IlKu0yzb9V"
      },
      "source": [
        "Swire Coca-Cola  is continually introducing innovative products into the market. Innovation diversifies product offerings, meeting evolving consumer trends. This strategy, marked by unique products and premium pricing, expands market reach and attracts new customers. It responds to technology changes and regulations, ensuring cost efficiency and compliance. Additionally, it rejuvenates sales and marketing. In essence, product innovation is essential for staying relevant, driving revenue, and sustaining long-term growth in a dynamic market.\n",
        "\n",
        "So, Swire Coca-Cola wants to optimize its production planning and inventory management for these novel beverages. The challenge for Swire is to forecast the demand for these new products accurately to ensure optimal production quantities, prevent out-of-stock and overproduction, minimize costs, and maximize customer satisfaction. The Business problem is to accurately predict the weekly demand of the innovation products. The focus of our project will be on optimal production planning, cost minimization, and market location and date prediction.\n",
        "\n"
      ]
    },
    {
      "cell_type": "markdown",
      "metadata": {
        "id": "6XW_q5wR50h_"
      },
      "source": [
        "The Analytical Problem is to forecast the details expected by the Swire for the 7 innovation products that are planned to be launched in the near future. The basic details of each of the new innovation products are provided so that it can be compared against the historical data and can be used to forecast the sales of the innovation products as close as possible to the real time sales.\n",
        "\n",
        "The key factors for the Items are the Caloric Segment, Market Category, Manufacturer, Brand, Package Type and Flavor which will be used as the independent variables from the Previous years data to create a Forecast for the new innovation Products. So, the Target variable is the Dollar Sales/unit sales for the innovation products.\n"
      ]
    },
    {
      "cell_type": "markdown",
      "metadata": {
        "id": "xqtBXSPcvve3"
      },
      "source": [
        "In this notebook we will create the forecasting models to predict the demand for the new innovation products that the Swire team is expecting to launch in the next year. The scope includes creating the end-to-end development of the forecasting models to find the pattern of the sales for the products and also to discover some insights for improving the sales of innovation products.  It aims to provide Swire with the insights and tools necessary to maintain its Sales while making data-driven decisions that can contribute to the success of the innovation Products."
      ]
    },
    {
      "cell_type": "markdown",
      "metadata": {
        "id": "DOqNwAu2dssL"
      },
      "source": [
        "# <a name=\"install\"></a>2. Installing required packages"
      ]
    },
    {
      "cell_type": "code",
      "execution_count": 25,
      "metadata": {
        "id": "ecVw2Qv1avoe"
      },
      "outputs": [],
      "source": [
        "import warnings\n",
        "warnings.filterwarnings(\"ignore\")"
      ]
    },
    {
      "cell_type": "code",
      "execution_count": 26,
      "metadata": {
        "colab": {
          "base_uri": "https://localhost:8080/"
        },
        "id": "ToR9EAfLZHqp",
        "outputId": "3f536c4c-6b50-418a-a10f-32f59de37b65"
      },
      "outputs": [
        {
          "output_type": "stream",
          "name": "stdout",
          "text": [
            "Requirement already satisfied: google.cloud.bigquery in /usr/local/lib/python3.10/dist-packages (3.12.0)\n",
            "Requirement already satisfied: grpcio<2.0dev,>=1.47.0 in /usr/local/lib/python3.10/dist-packages (from google.cloud.bigquery) (1.62.1)\n",
            "Requirement already satisfied: google-api-core[grpc]!=2.0.*,!=2.1.*,!=2.2.*,!=2.3.0,<3.0.0dev,>=1.31.5 in /usr/local/lib/python3.10/dist-packages (from google.cloud.bigquery) (2.11.1)\n",
            "Requirement already satisfied: proto-plus<2.0.0dev,>=1.15.0 in /usr/local/lib/python3.10/dist-packages (from google.cloud.bigquery) (1.23.0)\n",
            "Requirement already satisfied: google-cloud-core<3.0.0dev,>=1.6.0 in /usr/local/lib/python3.10/dist-packages (from google.cloud.bigquery) (2.3.3)\n",
            "Requirement already satisfied: google-resumable-media<3.0dev,>=0.6.0 in /usr/local/lib/python3.10/dist-packages (from google.cloud.bigquery) (2.7.0)\n",
            "Requirement already satisfied: packaging>=20.0.0 in /usr/local/lib/python3.10/dist-packages (from google.cloud.bigquery) (24.0)\n",
            "Requirement already satisfied: protobuf!=3.20.0,!=3.20.1,!=4.21.0,!=4.21.1,!=4.21.2,!=4.21.3,!=4.21.4,!=4.21.5,<5.0.0dev,>=3.19.5 in /usr/local/lib/python3.10/dist-packages (from google.cloud.bigquery) (3.20.3)\n",
            "Requirement already satisfied: python-dateutil<3.0dev,>=2.7.2 in /usr/local/lib/python3.10/dist-packages (from google.cloud.bigquery) (2.8.2)\n",
            "Requirement already satisfied: requests<3.0.0dev,>=2.21.0 in /usr/local/lib/python3.10/dist-packages (from google.cloud.bigquery) (2.31.0)\n",
            "Requirement already satisfied: googleapis-common-protos<2.0.dev0,>=1.56.2 in /usr/local/lib/python3.10/dist-packages (from google-api-core[grpc]!=2.0.*,!=2.1.*,!=2.2.*,!=2.3.0,<3.0.0dev,>=1.31.5->google.cloud.bigquery) (1.63.0)\n",
            "Requirement already satisfied: google-auth<3.0.dev0,>=2.14.1 in /usr/local/lib/python3.10/dist-packages (from google-api-core[grpc]!=2.0.*,!=2.1.*,!=2.2.*,!=2.3.0,<3.0.0dev,>=1.31.5->google.cloud.bigquery) (2.27.0)\n",
            "Requirement already satisfied: grpcio-status<2.0.dev0,>=1.33.2 in /usr/local/lib/python3.10/dist-packages (from google-api-core[grpc]!=2.0.*,!=2.1.*,!=2.2.*,!=2.3.0,<3.0.0dev,>=1.31.5->google.cloud.bigquery) (1.48.2)\n",
            "Requirement already satisfied: google-crc32c<2.0dev,>=1.0 in /usr/local/lib/python3.10/dist-packages (from google-resumable-media<3.0dev,>=0.6.0->google.cloud.bigquery) (1.5.0)\n",
            "Requirement already satisfied: six>=1.5 in /usr/local/lib/python3.10/dist-packages (from python-dateutil<3.0dev,>=2.7.2->google.cloud.bigquery) (1.16.0)\n",
            "Requirement already satisfied: charset-normalizer<4,>=2 in /usr/local/lib/python3.10/dist-packages (from requests<3.0.0dev,>=2.21.0->google.cloud.bigquery) (3.3.2)\n",
            "Requirement already satisfied: idna<4,>=2.5 in /usr/local/lib/python3.10/dist-packages (from requests<3.0.0dev,>=2.21.0->google.cloud.bigquery) (3.6)\n",
            "Requirement already satisfied: urllib3<3,>=1.21.1 in /usr/local/lib/python3.10/dist-packages (from requests<3.0.0dev,>=2.21.0->google.cloud.bigquery) (2.0.7)\n",
            "Requirement already satisfied: certifi>=2017.4.17 in /usr/local/lib/python3.10/dist-packages (from requests<3.0.0dev,>=2.21.0->google.cloud.bigquery) (2024.2.2)\n",
            "Requirement already satisfied: cachetools<6.0,>=2.0.0 in /usr/local/lib/python3.10/dist-packages (from google-auth<3.0.dev0,>=2.14.1->google-api-core[grpc]!=2.0.*,!=2.1.*,!=2.2.*,!=2.3.0,<3.0.0dev,>=1.31.5->google.cloud.bigquery) (5.3.3)\n",
            "Requirement already satisfied: pyasn1-modules>=0.2.1 in /usr/local/lib/python3.10/dist-packages (from google-auth<3.0.dev0,>=2.14.1->google-api-core[grpc]!=2.0.*,!=2.1.*,!=2.2.*,!=2.3.0,<3.0.0dev,>=1.31.5->google.cloud.bigquery) (0.4.0)\n",
            "Requirement already satisfied: rsa<5,>=3.1.4 in /usr/local/lib/python3.10/dist-packages (from google-auth<3.0.dev0,>=2.14.1->google-api-core[grpc]!=2.0.*,!=2.1.*,!=2.2.*,!=2.3.0,<3.0.0dev,>=1.31.5->google.cloud.bigquery) (4.9)\n",
            "Requirement already satisfied: pyasn1<0.7.0,>=0.4.6 in /usr/local/lib/python3.10/dist-packages (from pyasn1-modules>=0.2.1->google-auth<3.0.dev0,>=2.14.1->google-api-core[grpc]!=2.0.*,!=2.1.*,!=2.2.*,!=2.3.0,<3.0.0dev,>=1.31.5->google.cloud.bigquery) (0.6.0)\n"
          ]
        }
      ],
      "source": [
        "!pip install google.cloud.bigquery"
      ]
    },
    {
      "cell_type": "code",
      "execution_count": 27,
      "metadata": {
        "id": "Vx-l4fXR8UA7"
      },
      "outputs": [],
      "source": [
        "import os\n",
        "import numpy as np\n",
        "import pandas as pd\n",
        "import math\n",
        "import itertools\n",
        "from scipy import stats\n",
        "import time\n",
        "\n",
        "\n",
        "#matplotlib libraries\n",
        "import matplotlib.pyplot as plt\n",
        "import matplotlib.patches as mp\n",
        "import matplotlib.image as mpimg\n",
        "import matplotlib.cm as cm\n",
        "import matplotlib.colors\n",
        "import seaborn as sns\n",
        "\n",
        "#date libraries\n",
        "from dateutil import parser\n",
        "from datetime import datetime, timedelta, date\n",
        "import holidays\n",
        "\n",
        "#prophet library\n",
        "from prophet import Prophet\n",
        "from prophet.diagnostics import performance_metrics\n",
        "from prophet.plot import plot_cross_validation_metric\n",
        "from prophet.diagnostics import cross_validation\n",
        "\n",
        "#xgboost\n",
        "from xgboost import XGBRegressor\n",
        "\n",
        "#sklearn\n",
        "from sklearn.metrics import mean_absolute_error, mean_squared_error, r2_score\n",
        "from sklearn.model_selection import train_test_split\n",
        "from sklearn.metrics import mean_squared_error, r2_score\n",
        "from sklearn.preprocessing import LabelEncoder\n",
        "from sklearn.ensemble import RandomForestRegressor\n",
        "from sklearn.linear_model import LinearRegression\n",
        "from sklearn.model_selection import cross_val_score\n"
      ]
    },
    {
      "cell_type": "code",
      "execution_count": 28,
      "metadata": {
        "id": "j1uJ_xUxB_Kw"
      },
      "outputs": [],
      "source": [
        "\n",
        "#pandas options\n",
        "pd.set_option('display.float_format', lambda x: '%.2f' % x)\n",
        "pd.set_option('display.max_columns', None)\n",
        "pd.set_option('display.max_rows', None)\n",
        "\n",
        "#matplotlib setting defaults\n",
        "sns.set(\n",
        "        rc={\n",
        " \"axes.axisbelow\": False,\n",
        " \"axes.edgecolor\": \"lightgrey\",\n",
        " \"axes.facecolor\": \"None\",\n",
        " \"axes.grid\": False,\n",
        " \"axes.labelcolor\": \"dimgrey\",\n",
        " \"axes.spines.right\": False,\n",
        " \"axes.spines.top\": False,\n",
        " \"figure.facecolor\": \"white\",\n",
        " \"lines.solid_capstyle\": \"round\",\n",
        " \"patch.edgecolor\": \"w\",\n",
        " \"patch.force_edgecolor\": True,\n",
        " \"text.color\": \"dimgrey\",\n",
        " \"xtick.bottom\": False,\n",
        " \"xtick.color\": \"dimgrey\",\n",
        " \"xtick.direction\": \"out\",\n",
        " \"xtick.top\": False,\n",
        " \"ytick.color\": \"dimgrey\",\n",
        " \"ytick.direction\": \"out\",\n",
        " \"ytick.left\": False,\n",
        " \"ytick.right\": False})\n"
      ]
    },
    {
      "cell_type": "code",
      "execution_count": 29,
      "metadata": {
        "id": "6O11JwOnatwJ"
      },
      "outputs": [],
      "source": [
        "from google.cloud import bigquery\n",
        "from google.oauth2 import service_account\n",
        "import pandas as pd\n",
        "\n",
        "from google.colab import auth\n",
        "\n",
        "# Authenticate user\n",
        "auth.authenticate_user()"
      ]
    },
    {
      "cell_type": "code",
      "execution_count": 30,
      "metadata": {
        "id": "EoGA52gtbWbG"
      },
      "outputs": [],
      "source": [
        "# Create a BigQuery client\n",
        "client = bigquery.Client(project='is-6813-spring-24')"
      ]
    },
    {
      "cell_type": "markdown",
      "metadata": {
        "id": "UXUb4LYcdy1n"
      },
      "source": [
        "# <a name=\"data\"></a> 3. Loading  Datasets and Data Description"
      ]
    },
    {
      "cell_type": "markdown",
      "metadata": {
        "id": "DU8OrsFfcA2u"
      },
      "source": [
        "## <a name = \"fact\"> </a> 3.1 Fact Market Demand Data"
      ]
    },
    {
      "cell_type": "markdown",
      "metadata": {
        "id": "YEJOkzdOiVLi"
      },
      "source": [
        "The main data file is the fact_market_demand data since that seems to hold the most value for answering the business problem. There are 10 fields and 24,461,424 rows. The columns are data, unit_sales, caloric_segment, category, manufacturer, brand, package, item, market_key and dollar_sales.\n",
        "\n",
        "The date range is nearly three full years, spanning December 2020 to October 2023. The caloric segment is a categorical column with values Regular and Diet/light.\n"
      ]
    },
    {
      "cell_type": "code",
      "execution_count": 31,
      "metadata": {
        "colab": {
          "base_uri": "https://localhost:8080/",
          "height": 417
        },
        "id": "kfniZP_gdrZZ",
        "outputId": "bc9b8d77-69b9-425e-efe7-09c00582862d"
      },
      "outputs": [
        {
          "output_type": "execute_result",
          "data": {
            "text/plain": [
              "         DATE  MARKET_KEY CALORIC_SEGMENT CATEGORY  UNIT_SALES  DOLLAR_SALES  \\\n",
              "0  2022-04-02         464      DIET/LIGHT      SSD       35.00        194.35   \n",
              "1  2023-04-22         951      DIET/LIGHT      SSD       67.00        124.61   \n",
              "2  2021-01-09         882         REGULAR      SSD       14.00         25.37   \n",
              "3  2022-10-22         951      DIET/LIGHT      SSD        6.00          9.00   \n",
              "4  2021-10-30         613      DIET/LIGHT      SSD       94.00        490.49   \n",
              "\n",
              "  MANUFACTURER                                 BRAND  \\\n",
              "0        COCOS       DIET BUBBLE JOY ADVANTAGEOUS CF   \n",
              "1        COCOS       DIET BUBBLE JOY ADVANTAGEOUS CF   \n",
              "2        COCOS      CINNAMON BUBBLE JOY ADVANTAGEOUS   \n",
              "3     SWIRE-CC     DIET SPARKLING JACCEPTABLETLESTER   \n",
              "4       JOLLYS  HILL MOISTURE ZERO SUGAR MAJOR MELON   \n",
              "\n",
              "                    PACKAGE                                               ITEM  \n",
              "0  12SMALL 8ONE SHADYES JUG  DIET BUBBLE JOY ADVANTAGEOUS CAFFEINE FREE GEN...  \n",
              "1              2L MULTI JUG  DIET BUBBLE JOY ADVANTAGEOUS CAFFEINE FREE GEN...  \n",
              "2         20SMALL MULTI JUG  KOOL! GENTLE DRINK CINNAMON COLA JUG 20 LIQUID...  \n",
              "3              1L MULTI JUG  DIET SPARKLING JACCEPTABLETLESTER TONIC WATER ...  \n",
              "4         12SMALL 12ONE CUP  RAINING ZERO SUGAR GENTLE DRINK MAJOR CANES  A...  "
            ],
            "text/html": [
              "\n",
              "  <div id=\"df-412da20e-6d63-4851-8c2d-7a2a391faa96\" class=\"colab-df-container\">\n",
              "    <div>\n",
              "<style scoped>\n",
              "    .dataframe tbody tr th:only-of-type {\n",
              "        vertical-align: middle;\n",
              "    }\n",
              "\n",
              "    .dataframe tbody tr th {\n",
              "        vertical-align: top;\n",
              "    }\n",
              "\n",
              "    .dataframe thead th {\n",
              "        text-align: right;\n",
              "    }\n",
              "</style>\n",
              "<table border=\"1\" class=\"dataframe\">\n",
              "  <thead>\n",
              "    <tr style=\"text-align: right;\">\n",
              "      <th></th>\n",
              "      <th>DATE</th>\n",
              "      <th>MARKET_KEY</th>\n",
              "      <th>CALORIC_SEGMENT</th>\n",
              "      <th>CATEGORY</th>\n",
              "      <th>UNIT_SALES</th>\n",
              "      <th>DOLLAR_SALES</th>\n",
              "      <th>MANUFACTURER</th>\n",
              "      <th>BRAND</th>\n",
              "      <th>PACKAGE</th>\n",
              "      <th>ITEM</th>\n",
              "    </tr>\n",
              "  </thead>\n",
              "  <tbody>\n",
              "    <tr>\n",
              "      <th>0</th>\n",
              "      <td>2022-04-02</td>\n",
              "      <td>464</td>\n",
              "      <td>DIET/LIGHT</td>\n",
              "      <td>SSD</td>\n",
              "      <td>35.00</td>\n",
              "      <td>194.35</td>\n",
              "      <td>COCOS</td>\n",
              "      <td>DIET BUBBLE JOY ADVANTAGEOUS CF</td>\n",
              "      <td>12SMALL 8ONE SHADYES JUG</td>\n",
              "      <td>DIET BUBBLE JOY ADVANTAGEOUS CAFFEINE FREE GEN...</td>\n",
              "    </tr>\n",
              "    <tr>\n",
              "      <th>1</th>\n",
              "      <td>2023-04-22</td>\n",
              "      <td>951</td>\n",
              "      <td>DIET/LIGHT</td>\n",
              "      <td>SSD</td>\n",
              "      <td>67.00</td>\n",
              "      <td>124.61</td>\n",
              "      <td>COCOS</td>\n",
              "      <td>DIET BUBBLE JOY ADVANTAGEOUS CF</td>\n",
              "      <td>2L MULTI JUG</td>\n",
              "      <td>DIET BUBBLE JOY ADVANTAGEOUS CAFFEINE FREE GEN...</td>\n",
              "    </tr>\n",
              "    <tr>\n",
              "      <th>2</th>\n",
              "      <td>2021-01-09</td>\n",
              "      <td>882</td>\n",
              "      <td>REGULAR</td>\n",
              "      <td>SSD</td>\n",
              "      <td>14.00</td>\n",
              "      <td>25.37</td>\n",
              "      <td>COCOS</td>\n",
              "      <td>CINNAMON BUBBLE JOY ADVANTAGEOUS</td>\n",
              "      <td>20SMALL MULTI JUG</td>\n",
              "      <td>KOOL! GENTLE DRINK CINNAMON COLA JUG 20 LIQUID...</td>\n",
              "    </tr>\n",
              "    <tr>\n",
              "      <th>3</th>\n",
              "      <td>2022-10-22</td>\n",
              "      <td>951</td>\n",
              "      <td>DIET/LIGHT</td>\n",
              "      <td>SSD</td>\n",
              "      <td>6.00</td>\n",
              "      <td>9.00</td>\n",
              "      <td>SWIRE-CC</td>\n",
              "      <td>DIET SPARKLING JACCEPTABLETLESTER</td>\n",
              "      <td>1L MULTI JUG</td>\n",
              "      <td>DIET SPARKLING JACCEPTABLETLESTER TONIC WATER ...</td>\n",
              "    </tr>\n",
              "    <tr>\n",
              "      <th>4</th>\n",
              "      <td>2021-10-30</td>\n",
              "      <td>613</td>\n",
              "      <td>DIET/LIGHT</td>\n",
              "      <td>SSD</td>\n",
              "      <td>94.00</td>\n",
              "      <td>490.49</td>\n",
              "      <td>JOLLYS</td>\n",
              "      <td>HILL MOISTURE ZERO SUGAR MAJOR MELON</td>\n",
              "      <td>12SMALL 12ONE CUP</td>\n",
              "      <td>RAINING ZERO SUGAR GENTLE DRINK MAJOR CANES  A...</td>\n",
              "    </tr>\n",
              "  </tbody>\n",
              "</table>\n",
              "</div>\n",
              "    <div class=\"colab-df-buttons\">\n",
              "\n",
              "  <div class=\"colab-df-container\">\n",
              "    <button class=\"colab-df-convert\" onclick=\"convertToInteractive('df-412da20e-6d63-4851-8c2d-7a2a391faa96')\"\n",
              "            title=\"Convert this dataframe to an interactive table.\"\n",
              "            style=\"display:none;\">\n",
              "\n",
              "  <svg xmlns=\"http://www.w3.org/2000/svg\" height=\"24px\" viewBox=\"0 -960 960 960\">\n",
              "    <path d=\"M120-120v-720h720v720H120Zm60-500h600v-160H180v160Zm220 220h160v-160H400v160Zm0 220h160v-160H400v160ZM180-400h160v-160H180v160Zm440 0h160v-160H620v160ZM180-180h160v-160H180v160Zm440 0h160v-160H620v160Z\"/>\n",
              "  </svg>\n",
              "    </button>\n",
              "\n",
              "  <style>\n",
              "    .colab-df-container {\n",
              "      display:flex;\n",
              "      gap: 12px;\n",
              "    }\n",
              "\n",
              "    .colab-df-convert {\n",
              "      background-color: #E8F0FE;\n",
              "      border: none;\n",
              "      border-radius: 50%;\n",
              "      cursor: pointer;\n",
              "      display: none;\n",
              "      fill: #1967D2;\n",
              "      height: 32px;\n",
              "      padding: 0 0 0 0;\n",
              "      width: 32px;\n",
              "    }\n",
              "\n",
              "    .colab-df-convert:hover {\n",
              "      background-color: #E2EBFA;\n",
              "      box-shadow: 0px 1px 2px rgba(60, 64, 67, 0.3), 0px 1px 3px 1px rgba(60, 64, 67, 0.15);\n",
              "      fill: #174EA6;\n",
              "    }\n",
              "\n",
              "    .colab-df-buttons div {\n",
              "      margin-bottom: 4px;\n",
              "    }\n",
              "\n",
              "    [theme=dark] .colab-df-convert {\n",
              "      background-color: #3B4455;\n",
              "      fill: #D2E3FC;\n",
              "    }\n",
              "\n",
              "    [theme=dark] .colab-df-convert:hover {\n",
              "      background-color: #434B5C;\n",
              "      box-shadow: 0px 1px 3px 1px rgba(0, 0, 0, 0.15);\n",
              "      filter: drop-shadow(0px 1px 2px rgba(0, 0, 0, 0.3));\n",
              "      fill: #FFFFFF;\n",
              "    }\n",
              "  </style>\n",
              "\n",
              "    <script>\n",
              "      const buttonEl =\n",
              "        document.querySelector('#df-412da20e-6d63-4851-8c2d-7a2a391faa96 button.colab-df-convert');\n",
              "      buttonEl.style.display =\n",
              "        google.colab.kernel.accessAllowed ? 'block' : 'none';\n",
              "\n",
              "      async function convertToInteractive(key) {\n",
              "        const element = document.querySelector('#df-412da20e-6d63-4851-8c2d-7a2a391faa96');\n",
              "        const dataTable =\n",
              "          await google.colab.kernel.invokeFunction('convertToInteractive',\n",
              "                                                    [key], {});\n",
              "        if (!dataTable) return;\n",
              "\n",
              "        const docLinkHtml = 'Like what you see? Visit the ' +\n",
              "          '<a target=\"_blank\" href=https://colab.research.google.com/notebooks/data_table.ipynb>data table notebook</a>'\n",
              "          + ' to learn more about interactive tables.';\n",
              "        element.innerHTML = '';\n",
              "        dataTable['output_type'] = 'display_data';\n",
              "        await google.colab.output.renderOutput(dataTable, element);\n",
              "        const docLink = document.createElement('div');\n",
              "        docLink.innerHTML = docLinkHtml;\n",
              "        element.appendChild(docLink);\n",
              "      }\n",
              "    </script>\n",
              "  </div>\n",
              "\n",
              "\n",
              "<div id=\"df-9f1edab9-5d80-4a25-b95c-6dc22cfde816\">\n",
              "  <button class=\"colab-df-quickchart\" onclick=\"quickchart('df-9f1edab9-5d80-4a25-b95c-6dc22cfde816')\"\n",
              "            title=\"Suggest charts\"\n",
              "            style=\"display:none;\">\n",
              "\n",
              "<svg xmlns=\"http://www.w3.org/2000/svg\" height=\"24px\"viewBox=\"0 0 24 24\"\n",
              "     width=\"24px\">\n",
              "    <g>\n",
              "        <path d=\"M19 3H5c-1.1 0-2 .9-2 2v14c0 1.1.9 2 2 2h14c1.1 0 2-.9 2-2V5c0-1.1-.9-2-2-2zM9 17H7v-7h2v7zm4 0h-2V7h2v10zm4 0h-2v-4h2v4z\"/>\n",
              "    </g>\n",
              "</svg>\n",
              "  </button>\n",
              "\n",
              "<style>\n",
              "  .colab-df-quickchart {\n",
              "      --bg-color: #E8F0FE;\n",
              "      --fill-color: #1967D2;\n",
              "      --hover-bg-color: #E2EBFA;\n",
              "      --hover-fill-color: #174EA6;\n",
              "      --disabled-fill-color: #AAA;\n",
              "      --disabled-bg-color: #DDD;\n",
              "  }\n",
              "\n",
              "  [theme=dark] .colab-df-quickchart {\n",
              "      --bg-color: #3B4455;\n",
              "      --fill-color: #D2E3FC;\n",
              "      --hover-bg-color: #434B5C;\n",
              "      --hover-fill-color: #FFFFFF;\n",
              "      --disabled-bg-color: #3B4455;\n",
              "      --disabled-fill-color: #666;\n",
              "  }\n",
              "\n",
              "  .colab-df-quickchart {\n",
              "    background-color: var(--bg-color);\n",
              "    border: none;\n",
              "    border-radius: 50%;\n",
              "    cursor: pointer;\n",
              "    display: none;\n",
              "    fill: var(--fill-color);\n",
              "    height: 32px;\n",
              "    padding: 0;\n",
              "    width: 32px;\n",
              "  }\n",
              "\n",
              "  .colab-df-quickchart:hover {\n",
              "    background-color: var(--hover-bg-color);\n",
              "    box-shadow: 0 1px 2px rgba(60, 64, 67, 0.3), 0 1px 3px 1px rgba(60, 64, 67, 0.15);\n",
              "    fill: var(--button-hover-fill-color);\n",
              "  }\n",
              "\n",
              "  .colab-df-quickchart-complete:disabled,\n",
              "  .colab-df-quickchart-complete:disabled:hover {\n",
              "    background-color: var(--disabled-bg-color);\n",
              "    fill: var(--disabled-fill-color);\n",
              "    box-shadow: none;\n",
              "  }\n",
              "\n",
              "  .colab-df-spinner {\n",
              "    border: 2px solid var(--fill-color);\n",
              "    border-color: transparent;\n",
              "    border-bottom-color: var(--fill-color);\n",
              "    animation:\n",
              "      spin 1s steps(1) infinite;\n",
              "  }\n",
              "\n",
              "  @keyframes spin {\n",
              "    0% {\n",
              "      border-color: transparent;\n",
              "      border-bottom-color: var(--fill-color);\n",
              "      border-left-color: var(--fill-color);\n",
              "    }\n",
              "    20% {\n",
              "      border-color: transparent;\n",
              "      border-left-color: var(--fill-color);\n",
              "      border-top-color: var(--fill-color);\n",
              "    }\n",
              "    30% {\n",
              "      border-color: transparent;\n",
              "      border-left-color: var(--fill-color);\n",
              "      border-top-color: var(--fill-color);\n",
              "      border-right-color: var(--fill-color);\n",
              "    }\n",
              "    40% {\n",
              "      border-color: transparent;\n",
              "      border-right-color: var(--fill-color);\n",
              "      border-top-color: var(--fill-color);\n",
              "    }\n",
              "    60% {\n",
              "      border-color: transparent;\n",
              "      border-right-color: var(--fill-color);\n",
              "    }\n",
              "    80% {\n",
              "      border-color: transparent;\n",
              "      border-right-color: var(--fill-color);\n",
              "      border-bottom-color: var(--fill-color);\n",
              "    }\n",
              "    90% {\n",
              "      border-color: transparent;\n",
              "      border-bottom-color: var(--fill-color);\n",
              "    }\n",
              "  }\n",
              "</style>\n",
              "\n",
              "  <script>\n",
              "    async function quickchart(key) {\n",
              "      const quickchartButtonEl =\n",
              "        document.querySelector('#' + key + ' button');\n",
              "      quickchartButtonEl.disabled = true;  // To prevent multiple clicks.\n",
              "      quickchartButtonEl.classList.add('colab-df-spinner');\n",
              "      try {\n",
              "        const charts = await google.colab.kernel.invokeFunction(\n",
              "            'suggestCharts', [key], {});\n",
              "      } catch (error) {\n",
              "        console.error('Error during call to suggestCharts:', error);\n",
              "      }\n",
              "      quickchartButtonEl.classList.remove('colab-df-spinner');\n",
              "      quickchartButtonEl.classList.add('colab-df-quickchart-complete');\n",
              "    }\n",
              "    (() => {\n",
              "      let quickchartButtonEl =\n",
              "        document.querySelector('#df-9f1edab9-5d80-4a25-b95c-6dc22cfde816 button');\n",
              "      quickchartButtonEl.style.display =\n",
              "        google.colab.kernel.accessAllowed ? 'block' : 'none';\n",
              "    })();\n",
              "  </script>\n",
              "</div>\n",
              "\n",
              "    </div>\n",
              "  </div>\n"
            ],
            "application/vnd.google.colaboratory.intrinsic+json": {
              "type": "dataframe",
              "variable_name": "Fact_Demand_data"
            }
          },
          "metadata": {},
          "execution_count": 31
        }
      ],
      "source": [
        "# Get Fact_Market_Demand Data from BigQuery\n",
        "\n",
        "fact_demand_query = \"\"\"\n",
        "select * from `swire.fact_market_demand`\n",
        "\"\"\"\n",
        "# Execute the query\n",
        "fact_demand_query_job = client.query(fact_demand_query)\n",
        "\n",
        "# Get the results as a Pandas DataFrame\n",
        "Fact_Demand_data = fact_demand_query_job.to_dataframe()\n",
        "\n",
        "# Display Fact_market_demand data\n",
        "Fact_Demand_data.head()"
      ]
    },
    {
      "cell_type": "code",
      "execution_count": 32,
      "metadata": {
        "colab": {
          "base_uri": "https://localhost:8080/"
        },
        "id": "N-OvsHSC5bUs",
        "outputId": "d49fe289-84b9-4a2e-940d-b6f03377d223"
      },
      "outputs": [
        {
          "output_type": "stream",
          "name": "stdout",
          "text": [
            "       MARKET_KEY  UNIT_SALES  DOLLAR_SALES\n",
            "count 24461424.00 24461424.00   24461424.00\n",
            "mean       593.14      174.37        591.14\n",
            "std        605.88      857.81       3040.54\n",
            "min          1.00        0.04          0.01\n",
            "25%        260.00       11.00         36.59\n",
            "50%        547.00       40.00        135.05\n",
            "75%        845.00      126.00        427.14\n",
            "max       6802.00    96776.00     492591.07\n"
          ]
        }
      ],
      "source": [
        "# Get a summary of the dataset\n",
        "print(Fact_Demand_data.describe())"
      ]
    },
    {
      "cell_type": "code",
      "execution_count": 33,
      "metadata": {
        "colab": {
          "base_uri": "https://localhost:8080/"
        },
        "id": "eNSpM8uGOQt8",
        "outputId": "f97c1a88-5596-45be-d651-7b13f43d5caa"
      },
      "outputs": [
        {
          "output_type": "stream",
          "name": "stdout",
          "text": [
            "<class 'pandas.core.frame.DataFrame'>\n",
            "RangeIndex: 24461424 entries, 0 to 24461423\n",
            "Data columns (total 10 columns):\n",
            " #   Column           Dtype  \n",
            "---  ------           -----  \n",
            " 0   DATE             dbdate \n",
            " 1   MARKET_KEY       Int64  \n",
            " 2   CALORIC_SEGMENT  object \n",
            " 3   CATEGORY         object \n",
            " 4   UNIT_SALES       float64\n",
            " 5   DOLLAR_SALES     float64\n",
            " 6   MANUFACTURER     object \n",
            " 7   BRAND            object \n",
            " 8   PACKAGE          object \n",
            " 9   ITEM             object \n",
            "dtypes: Int64(1), dbdate(1), float64(2), object(6)\n",
            "memory usage: 1.8+ GB\n",
            "None\n"
          ]
        }
      ],
      "source": [
        "print(Fact_Demand_data.info())"
      ]
    },
    {
      "cell_type": "code",
      "execution_count": 34,
      "metadata": {
        "colab": {
          "base_uri": "https://localhost:8080/"
        },
        "id": "wIrRaqWz470D",
        "outputId": "1333e237-1351-4dd7-c6ae-3178673ecb02"
      },
      "outputs": [
        {
          "output_type": "stream",
          "name": "stdout",
          "text": [
            "DATE                   0\n",
            "MARKET_KEY             0\n",
            "CALORIC_SEGMENT    59725\n",
            "CATEGORY               0\n",
            "UNIT_SALES             0\n",
            "DOLLAR_SALES           0\n",
            "MANUFACTURER           0\n",
            "BRAND                  0\n",
            "PACKAGE                0\n",
            "ITEM                   0\n",
            "dtype: int64\n"
          ]
        }
      ],
      "source": [
        "# Check for missing values\n",
        "print(Fact_Demand_data.isnull().sum())"
      ]
    },
    {
      "cell_type": "markdown",
      "metadata": {
        "id": "NwUumfY-636H"
      },
      "source": [
        "\n",
        "\n",
        "In the Fact Demand data we can see that there are 59725 missing data in the CALORIC_SEGMENT Column. Before replacing that let us look at how the CALORIC_SEGMENT data is disctributed by using the count SQL query from Big Query as the processing time will be more if done from dataframe object.\n",
        "\n"
      ]
    },
    {
      "cell_type": "code",
      "execution_count": 35,
      "metadata": {
        "colab": {
          "base_uri": "https://localhost:8080/",
          "height": 143
        },
        "id": "5BJpRJg6-w9D",
        "outputId": "26aac085-432d-486e-9577-5f0c25b67e7e"
      },
      "outputs": [
        {
          "output_type": "execute_result",
          "data": {
            "text/plain": [
              "  CALORIC_SEGMENT  Count_caloric_segment\n",
              "0         REGULAR               12231585\n",
              "1      DIET/LIGHT               12170114\n",
              "2            None                  59725"
            ],
            "text/html": [
              "\n",
              "  <div id=\"df-ed8418cd-30a3-4954-a6a9-9d1d73ec6ba7\" class=\"colab-df-container\">\n",
              "    <div>\n",
              "<style scoped>\n",
              "    .dataframe tbody tr th:only-of-type {\n",
              "        vertical-align: middle;\n",
              "    }\n",
              "\n",
              "    .dataframe tbody tr th {\n",
              "        vertical-align: top;\n",
              "    }\n",
              "\n",
              "    .dataframe thead th {\n",
              "        text-align: right;\n",
              "    }\n",
              "</style>\n",
              "<table border=\"1\" class=\"dataframe\">\n",
              "  <thead>\n",
              "    <tr style=\"text-align: right;\">\n",
              "      <th></th>\n",
              "      <th>CALORIC_SEGMENT</th>\n",
              "      <th>Count_caloric_segment</th>\n",
              "    </tr>\n",
              "  </thead>\n",
              "  <tbody>\n",
              "    <tr>\n",
              "      <th>0</th>\n",
              "      <td>REGULAR</td>\n",
              "      <td>12231585</td>\n",
              "    </tr>\n",
              "    <tr>\n",
              "      <th>1</th>\n",
              "      <td>DIET/LIGHT</td>\n",
              "      <td>12170114</td>\n",
              "    </tr>\n",
              "    <tr>\n",
              "      <th>2</th>\n",
              "      <td>None</td>\n",
              "      <td>59725</td>\n",
              "    </tr>\n",
              "  </tbody>\n",
              "</table>\n",
              "</div>\n",
              "    <div class=\"colab-df-buttons\">\n",
              "\n",
              "  <div class=\"colab-df-container\">\n",
              "    <button class=\"colab-df-convert\" onclick=\"convertToInteractive('df-ed8418cd-30a3-4954-a6a9-9d1d73ec6ba7')\"\n",
              "            title=\"Convert this dataframe to an interactive table.\"\n",
              "            style=\"display:none;\">\n",
              "\n",
              "  <svg xmlns=\"http://www.w3.org/2000/svg\" height=\"24px\" viewBox=\"0 -960 960 960\">\n",
              "    <path d=\"M120-120v-720h720v720H120Zm60-500h600v-160H180v160Zm220 220h160v-160H400v160Zm0 220h160v-160H400v160ZM180-400h160v-160H180v160Zm440 0h160v-160H620v160ZM180-180h160v-160H180v160Zm440 0h160v-160H620v160Z\"/>\n",
              "  </svg>\n",
              "    </button>\n",
              "\n",
              "  <style>\n",
              "    .colab-df-container {\n",
              "      display:flex;\n",
              "      gap: 12px;\n",
              "    }\n",
              "\n",
              "    .colab-df-convert {\n",
              "      background-color: #E8F0FE;\n",
              "      border: none;\n",
              "      border-radius: 50%;\n",
              "      cursor: pointer;\n",
              "      display: none;\n",
              "      fill: #1967D2;\n",
              "      height: 32px;\n",
              "      padding: 0 0 0 0;\n",
              "      width: 32px;\n",
              "    }\n",
              "\n",
              "    .colab-df-convert:hover {\n",
              "      background-color: #E2EBFA;\n",
              "      box-shadow: 0px 1px 2px rgba(60, 64, 67, 0.3), 0px 1px 3px 1px rgba(60, 64, 67, 0.15);\n",
              "      fill: #174EA6;\n",
              "    }\n",
              "\n",
              "    .colab-df-buttons div {\n",
              "      margin-bottom: 4px;\n",
              "    }\n",
              "\n",
              "    [theme=dark] .colab-df-convert {\n",
              "      background-color: #3B4455;\n",
              "      fill: #D2E3FC;\n",
              "    }\n",
              "\n",
              "    [theme=dark] .colab-df-convert:hover {\n",
              "      background-color: #434B5C;\n",
              "      box-shadow: 0px 1px 3px 1px rgba(0, 0, 0, 0.15);\n",
              "      filter: drop-shadow(0px 1px 2px rgba(0, 0, 0, 0.3));\n",
              "      fill: #FFFFFF;\n",
              "    }\n",
              "  </style>\n",
              "\n",
              "    <script>\n",
              "      const buttonEl =\n",
              "        document.querySelector('#df-ed8418cd-30a3-4954-a6a9-9d1d73ec6ba7 button.colab-df-convert');\n",
              "      buttonEl.style.display =\n",
              "        google.colab.kernel.accessAllowed ? 'block' : 'none';\n",
              "\n",
              "      async function convertToInteractive(key) {\n",
              "        const element = document.querySelector('#df-ed8418cd-30a3-4954-a6a9-9d1d73ec6ba7');\n",
              "        const dataTable =\n",
              "          await google.colab.kernel.invokeFunction('convertToInteractive',\n",
              "                                                    [key], {});\n",
              "        if (!dataTable) return;\n",
              "\n",
              "        const docLinkHtml = 'Like what you see? Visit the ' +\n",
              "          '<a target=\"_blank\" href=https://colab.research.google.com/notebooks/data_table.ipynb>data table notebook</a>'\n",
              "          + ' to learn more about interactive tables.';\n",
              "        element.innerHTML = '';\n",
              "        dataTable['output_type'] = 'display_data';\n",
              "        await google.colab.output.renderOutput(dataTable, element);\n",
              "        const docLink = document.createElement('div');\n",
              "        docLink.innerHTML = docLinkHtml;\n",
              "        element.appendChild(docLink);\n",
              "      }\n",
              "    </script>\n",
              "  </div>\n",
              "\n",
              "\n",
              "<div id=\"df-d0654b6f-4d8e-4c32-8697-9975004f0668\">\n",
              "  <button class=\"colab-df-quickchart\" onclick=\"quickchart('df-d0654b6f-4d8e-4c32-8697-9975004f0668')\"\n",
              "            title=\"Suggest charts\"\n",
              "            style=\"display:none;\">\n",
              "\n",
              "<svg xmlns=\"http://www.w3.org/2000/svg\" height=\"24px\"viewBox=\"0 0 24 24\"\n",
              "     width=\"24px\">\n",
              "    <g>\n",
              "        <path d=\"M19 3H5c-1.1 0-2 .9-2 2v14c0 1.1.9 2 2 2h14c1.1 0 2-.9 2-2V5c0-1.1-.9-2-2-2zM9 17H7v-7h2v7zm4 0h-2V7h2v10zm4 0h-2v-4h2v4z\"/>\n",
              "    </g>\n",
              "</svg>\n",
              "  </button>\n",
              "\n",
              "<style>\n",
              "  .colab-df-quickchart {\n",
              "      --bg-color: #E8F0FE;\n",
              "      --fill-color: #1967D2;\n",
              "      --hover-bg-color: #E2EBFA;\n",
              "      --hover-fill-color: #174EA6;\n",
              "      --disabled-fill-color: #AAA;\n",
              "      --disabled-bg-color: #DDD;\n",
              "  }\n",
              "\n",
              "  [theme=dark] .colab-df-quickchart {\n",
              "      --bg-color: #3B4455;\n",
              "      --fill-color: #D2E3FC;\n",
              "      --hover-bg-color: #434B5C;\n",
              "      --hover-fill-color: #FFFFFF;\n",
              "      --disabled-bg-color: #3B4455;\n",
              "      --disabled-fill-color: #666;\n",
              "  }\n",
              "\n",
              "  .colab-df-quickchart {\n",
              "    background-color: var(--bg-color);\n",
              "    border: none;\n",
              "    border-radius: 50%;\n",
              "    cursor: pointer;\n",
              "    display: none;\n",
              "    fill: var(--fill-color);\n",
              "    height: 32px;\n",
              "    padding: 0;\n",
              "    width: 32px;\n",
              "  }\n",
              "\n",
              "  .colab-df-quickchart:hover {\n",
              "    background-color: var(--hover-bg-color);\n",
              "    box-shadow: 0 1px 2px rgba(60, 64, 67, 0.3), 0 1px 3px 1px rgba(60, 64, 67, 0.15);\n",
              "    fill: var(--button-hover-fill-color);\n",
              "  }\n",
              "\n",
              "  .colab-df-quickchart-complete:disabled,\n",
              "  .colab-df-quickchart-complete:disabled:hover {\n",
              "    background-color: var(--disabled-bg-color);\n",
              "    fill: var(--disabled-fill-color);\n",
              "    box-shadow: none;\n",
              "  }\n",
              "\n",
              "  .colab-df-spinner {\n",
              "    border: 2px solid var(--fill-color);\n",
              "    border-color: transparent;\n",
              "    border-bottom-color: var(--fill-color);\n",
              "    animation:\n",
              "      spin 1s steps(1) infinite;\n",
              "  }\n",
              "\n",
              "  @keyframes spin {\n",
              "    0% {\n",
              "      border-color: transparent;\n",
              "      border-bottom-color: var(--fill-color);\n",
              "      border-left-color: var(--fill-color);\n",
              "    }\n",
              "    20% {\n",
              "      border-color: transparent;\n",
              "      border-left-color: var(--fill-color);\n",
              "      border-top-color: var(--fill-color);\n",
              "    }\n",
              "    30% {\n",
              "      border-color: transparent;\n",
              "      border-left-color: var(--fill-color);\n",
              "      border-top-color: var(--fill-color);\n",
              "      border-right-color: var(--fill-color);\n",
              "    }\n",
              "    40% {\n",
              "      border-color: transparent;\n",
              "      border-right-color: var(--fill-color);\n",
              "      border-top-color: var(--fill-color);\n",
              "    }\n",
              "    60% {\n",
              "      border-color: transparent;\n",
              "      border-right-color: var(--fill-color);\n",
              "    }\n",
              "    80% {\n",
              "      border-color: transparent;\n",
              "      border-right-color: var(--fill-color);\n",
              "      border-bottom-color: var(--fill-color);\n",
              "    }\n",
              "    90% {\n",
              "      border-color: transparent;\n",
              "      border-bottom-color: var(--fill-color);\n",
              "    }\n",
              "  }\n",
              "</style>\n",
              "\n",
              "  <script>\n",
              "    async function quickchart(key) {\n",
              "      const quickchartButtonEl =\n",
              "        document.querySelector('#' + key + ' button');\n",
              "      quickchartButtonEl.disabled = true;  // To prevent multiple clicks.\n",
              "      quickchartButtonEl.classList.add('colab-df-spinner');\n",
              "      try {\n",
              "        const charts = await google.colab.kernel.invokeFunction(\n",
              "            'suggestCharts', [key], {});\n",
              "      } catch (error) {\n",
              "        console.error('Error during call to suggestCharts:', error);\n",
              "      }\n",
              "      quickchartButtonEl.classList.remove('colab-df-spinner');\n",
              "      quickchartButtonEl.classList.add('colab-df-quickchart-complete');\n",
              "    }\n",
              "    (() => {\n",
              "      let quickchartButtonEl =\n",
              "        document.querySelector('#df-d0654b6f-4d8e-4c32-8697-9975004f0668 button');\n",
              "      quickchartButtonEl.style.display =\n",
              "        google.colab.kernel.accessAllowed ? 'block' : 'none';\n",
              "    })();\n",
              "  </script>\n",
              "</div>\n",
              "\n",
              "    </div>\n",
              "  </div>\n"
            ],
            "application/vnd.google.colaboratory.intrinsic+json": {
              "type": "dataframe",
              "variable_name": "CS_data",
              "summary": "{\n  \"name\": \"CS_data\",\n  \"rows\": 3,\n  \"fields\": [\n    {\n      \"column\": \"CALORIC_SEGMENT\",\n      \"properties\": {\n        \"dtype\": \"string\",\n        \"num_unique_values\": 2,\n        \"samples\": [\n          \"DIET/LIGHT\",\n          \"REGULAR\"\n        ],\n        \"semantic_type\": \"\",\n        \"description\": \"\"\n      }\n    },\n    {\n      \"column\": \"Count_caloric_segment\",\n      \"properties\": {\n        \"dtype\": \"Int64\",\n        \"num_unique_values\": 3,\n        \"samples\": [\n          \"12231585\",\n          \"12170114\"\n        ],\n        \"semantic_type\": \"\",\n        \"description\": \"\"\n      }\n    }\n  ]\n}"
            }
          },
          "metadata": {},
          "execution_count": 35
        }
      ],
      "source": [
        "# Get Caloric Segment data from Fact_Market_Demand Data from BigQuery\n",
        "\n",
        "CS_query = \"\"\"\n",
        "select CALORIC_SEGMENT,\n",
        "count(*) as Count_caloric_segment\n",
        "from `swire.fact_market_demand`\n",
        "group by CALORIC_SEGMENT;\n",
        "\"\"\"\n",
        "# Execute the query\n",
        "CS_job = client.query(CS_query)\n",
        "\n",
        "# Get the results as a Pandas DataFrame\n",
        "CS_data = CS_job.to_dataframe()\n",
        "\n",
        "CS_data.head()"
      ]
    },
    {
      "cell_type": "markdown",
      "metadata": {
        "id": "gvrEe0qhcqP6"
      },
      "source": [
        "## <a name = \"demographic\"> </a> 3.2 Customer Demographics Data"
      ]
    },
    {
      "cell_type": "markdown",
      "metadata": {
        "id": "2XkEIAlK0oSq"
      },
      "source": [
        "The customer_demographics data provides information on the demographics with respect to zip codes like Age, Gender with age, Education, Income range, Marraige status, Race and Household information.\n",
        "\n",
        "All of these demographic information is combined and can be divided by filtering the 'Segment' field for each type like Household income, education, etc."
      ]
    },
    {
      "cell_type": "code",
      "execution_count": 36,
      "metadata": {
        "colab": {
          "base_uri": "https://localhost:8080/",
          "height": 206
        },
        "id": "oL-29dx9e9fn",
        "outputId": "f35591f4-f9b0-43ab-bc55-66fdb6a0947f"
      },
      "outputs": [
        {
          "output_type": "execute_result",
          "data": {
            "text/plain": [
              "  Geography_Name    Zip City State           Segment  \\\n",
              "0  57064 Tea, SD  57064  Tea    SD  Household Income   \n",
              "1  57064 Tea, SD  57064  Tea    SD  Household Income   \n",
              "2  57064 Tea, SD  57064  Tea    SD  Household Income   \n",
              "3  57064 Tea, SD  57064  Tea    SD  Household Income   \n",
              "4  57064 Tea, SD  57064  Tea    SD  Household Income   \n",
              "\n",
              "                   Criteria  Count Criteria_Unit  \n",
              "0      Income Under $10,000     36           HHs  \n",
              "1  Income $10,000 - $19,999     86           HHs  \n",
              "2  Income $20,000 - $29,999     87           HHs  \n",
              "3  Income $30,000 - $39,999    137           HHs  \n",
              "4  Income $40,000 - $49,999     85           HHs  "
            ],
            "text/html": [
              "\n",
              "  <div id=\"df-78ff8eb5-af6a-44bb-97ed-ec55971e2fda\" class=\"colab-df-container\">\n",
              "    <div>\n",
              "<style scoped>\n",
              "    .dataframe tbody tr th:only-of-type {\n",
              "        vertical-align: middle;\n",
              "    }\n",
              "\n",
              "    .dataframe tbody tr th {\n",
              "        vertical-align: top;\n",
              "    }\n",
              "\n",
              "    .dataframe thead th {\n",
              "        text-align: right;\n",
              "    }\n",
              "</style>\n",
              "<table border=\"1\" class=\"dataframe\">\n",
              "  <thead>\n",
              "    <tr style=\"text-align: right;\">\n",
              "      <th></th>\n",
              "      <th>Geography_Name</th>\n",
              "      <th>Zip</th>\n",
              "      <th>City</th>\n",
              "      <th>State</th>\n",
              "      <th>Segment</th>\n",
              "      <th>Criteria</th>\n",
              "      <th>Count</th>\n",
              "      <th>Criteria_Unit</th>\n",
              "    </tr>\n",
              "  </thead>\n",
              "  <tbody>\n",
              "    <tr>\n",
              "      <th>0</th>\n",
              "      <td>57064 Tea, SD</td>\n",
              "      <td>57064</td>\n",
              "      <td>Tea</td>\n",
              "      <td>SD</td>\n",
              "      <td>Household Income</td>\n",
              "      <td>Income Under $10,000</td>\n",
              "      <td>36</td>\n",
              "      <td>HHs</td>\n",
              "    </tr>\n",
              "    <tr>\n",
              "      <th>1</th>\n",
              "      <td>57064 Tea, SD</td>\n",
              "      <td>57064</td>\n",
              "      <td>Tea</td>\n",
              "      <td>SD</td>\n",
              "      <td>Household Income</td>\n",
              "      <td>Income $10,000 - $19,999</td>\n",
              "      <td>86</td>\n",
              "      <td>HHs</td>\n",
              "    </tr>\n",
              "    <tr>\n",
              "      <th>2</th>\n",
              "      <td>57064 Tea, SD</td>\n",
              "      <td>57064</td>\n",
              "      <td>Tea</td>\n",
              "      <td>SD</td>\n",
              "      <td>Household Income</td>\n",
              "      <td>Income $20,000 - $29,999</td>\n",
              "      <td>87</td>\n",
              "      <td>HHs</td>\n",
              "    </tr>\n",
              "    <tr>\n",
              "      <th>3</th>\n",
              "      <td>57064 Tea, SD</td>\n",
              "      <td>57064</td>\n",
              "      <td>Tea</td>\n",
              "      <td>SD</td>\n",
              "      <td>Household Income</td>\n",
              "      <td>Income $30,000 - $39,999</td>\n",
              "      <td>137</td>\n",
              "      <td>HHs</td>\n",
              "    </tr>\n",
              "    <tr>\n",
              "      <th>4</th>\n",
              "      <td>57064 Tea, SD</td>\n",
              "      <td>57064</td>\n",
              "      <td>Tea</td>\n",
              "      <td>SD</td>\n",
              "      <td>Household Income</td>\n",
              "      <td>Income $40,000 - $49,999</td>\n",
              "      <td>85</td>\n",
              "      <td>HHs</td>\n",
              "    </tr>\n",
              "  </tbody>\n",
              "</table>\n",
              "</div>\n",
              "    <div class=\"colab-df-buttons\">\n",
              "\n",
              "  <div class=\"colab-df-container\">\n",
              "    <button class=\"colab-df-convert\" onclick=\"convertToInteractive('df-78ff8eb5-af6a-44bb-97ed-ec55971e2fda')\"\n",
              "            title=\"Convert this dataframe to an interactive table.\"\n",
              "            style=\"display:none;\">\n",
              "\n",
              "  <svg xmlns=\"http://www.w3.org/2000/svg\" height=\"24px\" viewBox=\"0 -960 960 960\">\n",
              "    <path d=\"M120-120v-720h720v720H120Zm60-500h600v-160H180v160Zm220 220h160v-160H400v160Zm0 220h160v-160H400v160ZM180-400h160v-160H180v160Zm440 0h160v-160H620v160ZM180-180h160v-160H180v160Zm440 0h160v-160H620v160Z\"/>\n",
              "  </svg>\n",
              "    </button>\n",
              "\n",
              "  <style>\n",
              "    .colab-df-container {\n",
              "      display:flex;\n",
              "      gap: 12px;\n",
              "    }\n",
              "\n",
              "    .colab-df-convert {\n",
              "      background-color: #E8F0FE;\n",
              "      border: none;\n",
              "      border-radius: 50%;\n",
              "      cursor: pointer;\n",
              "      display: none;\n",
              "      fill: #1967D2;\n",
              "      height: 32px;\n",
              "      padding: 0 0 0 0;\n",
              "      width: 32px;\n",
              "    }\n",
              "\n",
              "    .colab-df-convert:hover {\n",
              "      background-color: #E2EBFA;\n",
              "      box-shadow: 0px 1px 2px rgba(60, 64, 67, 0.3), 0px 1px 3px 1px rgba(60, 64, 67, 0.15);\n",
              "      fill: #174EA6;\n",
              "    }\n",
              "\n",
              "    .colab-df-buttons div {\n",
              "      margin-bottom: 4px;\n",
              "    }\n",
              "\n",
              "    [theme=dark] .colab-df-convert {\n",
              "      background-color: #3B4455;\n",
              "      fill: #D2E3FC;\n",
              "    }\n",
              "\n",
              "    [theme=dark] .colab-df-convert:hover {\n",
              "      background-color: #434B5C;\n",
              "      box-shadow: 0px 1px 3px 1px rgba(0, 0, 0, 0.15);\n",
              "      filter: drop-shadow(0px 1px 2px rgba(0, 0, 0, 0.3));\n",
              "      fill: #FFFFFF;\n",
              "    }\n",
              "  </style>\n",
              "\n",
              "    <script>\n",
              "      const buttonEl =\n",
              "        document.querySelector('#df-78ff8eb5-af6a-44bb-97ed-ec55971e2fda button.colab-df-convert');\n",
              "      buttonEl.style.display =\n",
              "        google.colab.kernel.accessAllowed ? 'block' : 'none';\n",
              "\n",
              "      async function convertToInteractive(key) {\n",
              "        const element = document.querySelector('#df-78ff8eb5-af6a-44bb-97ed-ec55971e2fda');\n",
              "        const dataTable =\n",
              "          await google.colab.kernel.invokeFunction('convertToInteractive',\n",
              "                                                    [key], {});\n",
              "        if (!dataTable) return;\n",
              "\n",
              "        const docLinkHtml = 'Like what you see? Visit the ' +\n",
              "          '<a target=\"_blank\" href=https://colab.research.google.com/notebooks/data_table.ipynb>data table notebook</a>'\n",
              "          + ' to learn more about interactive tables.';\n",
              "        element.innerHTML = '';\n",
              "        dataTable['output_type'] = 'display_data';\n",
              "        await google.colab.output.renderOutput(dataTable, element);\n",
              "        const docLink = document.createElement('div');\n",
              "        docLink.innerHTML = docLinkHtml;\n",
              "        element.appendChild(docLink);\n",
              "      }\n",
              "    </script>\n",
              "  </div>\n",
              "\n",
              "\n",
              "<div id=\"df-e4a9bc77-920e-4c17-b47e-b97e184d9c2a\">\n",
              "  <button class=\"colab-df-quickchart\" onclick=\"quickchart('df-e4a9bc77-920e-4c17-b47e-b97e184d9c2a')\"\n",
              "            title=\"Suggest charts\"\n",
              "            style=\"display:none;\">\n",
              "\n",
              "<svg xmlns=\"http://www.w3.org/2000/svg\" height=\"24px\"viewBox=\"0 0 24 24\"\n",
              "     width=\"24px\">\n",
              "    <g>\n",
              "        <path d=\"M19 3H5c-1.1 0-2 .9-2 2v14c0 1.1.9 2 2 2h14c1.1 0 2-.9 2-2V5c0-1.1-.9-2-2-2zM9 17H7v-7h2v7zm4 0h-2V7h2v10zm4 0h-2v-4h2v4z\"/>\n",
              "    </g>\n",
              "</svg>\n",
              "  </button>\n",
              "\n",
              "<style>\n",
              "  .colab-df-quickchart {\n",
              "      --bg-color: #E8F0FE;\n",
              "      --fill-color: #1967D2;\n",
              "      --hover-bg-color: #E2EBFA;\n",
              "      --hover-fill-color: #174EA6;\n",
              "      --disabled-fill-color: #AAA;\n",
              "      --disabled-bg-color: #DDD;\n",
              "  }\n",
              "\n",
              "  [theme=dark] .colab-df-quickchart {\n",
              "      --bg-color: #3B4455;\n",
              "      --fill-color: #D2E3FC;\n",
              "      --hover-bg-color: #434B5C;\n",
              "      --hover-fill-color: #FFFFFF;\n",
              "      --disabled-bg-color: #3B4455;\n",
              "      --disabled-fill-color: #666;\n",
              "  }\n",
              "\n",
              "  .colab-df-quickchart {\n",
              "    background-color: var(--bg-color);\n",
              "    border: none;\n",
              "    border-radius: 50%;\n",
              "    cursor: pointer;\n",
              "    display: none;\n",
              "    fill: var(--fill-color);\n",
              "    height: 32px;\n",
              "    padding: 0;\n",
              "    width: 32px;\n",
              "  }\n",
              "\n",
              "  .colab-df-quickchart:hover {\n",
              "    background-color: var(--hover-bg-color);\n",
              "    box-shadow: 0 1px 2px rgba(60, 64, 67, 0.3), 0 1px 3px 1px rgba(60, 64, 67, 0.15);\n",
              "    fill: var(--button-hover-fill-color);\n",
              "  }\n",
              "\n",
              "  .colab-df-quickchart-complete:disabled,\n",
              "  .colab-df-quickchart-complete:disabled:hover {\n",
              "    background-color: var(--disabled-bg-color);\n",
              "    fill: var(--disabled-fill-color);\n",
              "    box-shadow: none;\n",
              "  }\n",
              "\n",
              "  .colab-df-spinner {\n",
              "    border: 2px solid var(--fill-color);\n",
              "    border-color: transparent;\n",
              "    border-bottom-color: var(--fill-color);\n",
              "    animation:\n",
              "      spin 1s steps(1) infinite;\n",
              "  }\n",
              "\n",
              "  @keyframes spin {\n",
              "    0% {\n",
              "      border-color: transparent;\n",
              "      border-bottom-color: var(--fill-color);\n",
              "      border-left-color: var(--fill-color);\n",
              "    }\n",
              "    20% {\n",
              "      border-color: transparent;\n",
              "      border-left-color: var(--fill-color);\n",
              "      border-top-color: var(--fill-color);\n",
              "    }\n",
              "    30% {\n",
              "      border-color: transparent;\n",
              "      border-left-color: var(--fill-color);\n",
              "      border-top-color: var(--fill-color);\n",
              "      border-right-color: var(--fill-color);\n",
              "    }\n",
              "    40% {\n",
              "      border-color: transparent;\n",
              "      border-right-color: var(--fill-color);\n",
              "      border-top-color: var(--fill-color);\n",
              "    }\n",
              "    60% {\n",
              "      border-color: transparent;\n",
              "      border-right-color: var(--fill-color);\n",
              "    }\n",
              "    80% {\n",
              "      border-color: transparent;\n",
              "      border-right-color: var(--fill-color);\n",
              "      border-bottom-color: var(--fill-color);\n",
              "    }\n",
              "    90% {\n",
              "      border-color: transparent;\n",
              "      border-bottom-color: var(--fill-color);\n",
              "    }\n",
              "  }\n",
              "</style>\n",
              "\n",
              "  <script>\n",
              "    async function quickchart(key) {\n",
              "      const quickchartButtonEl =\n",
              "        document.querySelector('#' + key + ' button');\n",
              "      quickchartButtonEl.disabled = true;  // To prevent multiple clicks.\n",
              "      quickchartButtonEl.classList.add('colab-df-spinner');\n",
              "      try {\n",
              "        const charts = await google.colab.kernel.invokeFunction(\n",
              "            'suggestCharts', [key], {});\n",
              "      } catch (error) {\n",
              "        console.error('Error during call to suggestCharts:', error);\n",
              "      }\n",
              "      quickchartButtonEl.classList.remove('colab-df-spinner');\n",
              "      quickchartButtonEl.classList.add('colab-df-quickchart-complete');\n",
              "    }\n",
              "    (() => {\n",
              "      let quickchartButtonEl =\n",
              "        document.querySelector('#df-e4a9bc77-920e-4c17-b47e-b97e184d9c2a button');\n",
              "      quickchartButtonEl.style.display =\n",
              "        google.colab.kernel.accessAllowed ? 'block' : 'none';\n",
              "    })();\n",
              "  </script>\n",
              "</div>\n",
              "\n",
              "    </div>\n",
              "  </div>\n"
            ],
            "application/vnd.google.colaboratory.intrinsic+json": {
              "type": "dataframe",
              "variable_name": "Demographics_data"
            }
          },
          "metadata": {},
          "execution_count": 36
        }
      ],
      "source": [
        "# Get consumer_demographics Data from BigQuery\n",
        "\n",
        "demograph_query = \"\"\"\n",
        "select * from `swire.consumer_demographics`\n",
        "\"\"\"\n",
        "# Execute the query\n",
        "demograph_query_job = client.query(demograph_query)\n",
        "\n",
        "# Get the results as a Pandas DataFrame\n",
        "Demographics_data = demograph_query_job.to_dataframe()\n",
        "\n",
        "# Display Fact_market_demand data\n",
        "Demographics_data.head()"
      ]
    },
    {
      "cell_type": "code",
      "execution_count": 37,
      "metadata": {
        "colab": {
          "base_uri": "https://localhost:8080/"
        },
        "id": "7AEbCeYjCAvC",
        "outputId": "3aa3951a-899f-4f85-f98a-451b32f67430"
      },
      "outputs": [
        {
          "output_type": "stream",
          "name": "stdout",
          "text": [
            "Geography_Name    0\n",
            "Zip               0\n",
            "City              0\n",
            "State             0\n",
            "Segment           0\n",
            "Criteria          0\n",
            "Count             0\n",
            "Criteria_Unit     0\n",
            "dtype: int64\n"
          ]
        }
      ],
      "source": [
        "# Check for missing value in Demographics data\n",
        "print(Demographics_data.isnull().sum())"
      ]
    },
    {
      "cell_type": "markdown",
      "metadata": {
        "id": "JYmmGEUzdIbu"
      },
      "source": [
        "## <a name = \"zip\"> </a> 3.3 Zip Code Data"
      ]
    },
    {
      "cell_type": "markdown",
      "metadata": {
        "id": "tgLS8fmI3TqO"
      },
      "source": [
        "This zip to market unit mapping data contains only Zip code to the market key information. This information can be used to connect the Demographics data to the Fact_Market_Demand data and also to know which Market key belongs to which region in country based on the Zip codes."
      ]
    },
    {
      "cell_type": "code",
      "execution_count": 38,
      "metadata": {
        "colab": {
          "base_uri": "https://localhost:8080/",
          "height": 206
        },
        "id": "EeuSmW5mfq_M",
        "outputId": "3302b8fd-60bc-49e1-f996-a1b3262e75c7"
      },
      "outputs": [
        {
          "output_type": "execute_result",
          "data": {
            "text/plain": [
              "   ZIP_CODE  MARKET_KEY\n",
              "0     83462           1\n",
              "1     83463           1\n",
              "2     83466           1\n",
              "3     83467           1\n",
              "4     83525           1"
            ],
            "text/html": [
              "\n",
              "  <div id=\"df-1257d7bc-0ab8-4d8c-8580-4a74ac678766\" class=\"colab-df-container\">\n",
              "    <div>\n",
              "<style scoped>\n",
              "    .dataframe tbody tr th:only-of-type {\n",
              "        vertical-align: middle;\n",
              "    }\n",
              "\n",
              "    .dataframe tbody tr th {\n",
              "        vertical-align: top;\n",
              "    }\n",
              "\n",
              "    .dataframe thead th {\n",
              "        text-align: right;\n",
              "    }\n",
              "</style>\n",
              "<table border=\"1\" class=\"dataframe\">\n",
              "  <thead>\n",
              "    <tr style=\"text-align: right;\">\n",
              "      <th></th>\n",
              "      <th>ZIP_CODE</th>\n",
              "      <th>MARKET_KEY</th>\n",
              "    </tr>\n",
              "  </thead>\n",
              "  <tbody>\n",
              "    <tr>\n",
              "      <th>0</th>\n",
              "      <td>83462</td>\n",
              "      <td>1</td>\n",
              "    </tr>\n",
              "    <tr>\n",
              "      <th>1</th>\n",
              "      <td>83463</td>\n",
              "      <td>1</td>\n",
              "    </tr>\n",
              "    <tr>\n",
              "      <th>2</th>\n",
              "      <td>83466</td>\n",
              "      <td>1</td>\n",
              "    </tr>\n",
              "    <tr>\n",
              "      <th>3</th>\n",
              "      <td>83467</td>\n",
              "      <td>1</td>\n",
              "    </tr>\n",
              "    <tr>\n",
              "      <th>4</th>\n",
              "      <td>83525</td>\n",
              "      <td>1</td>\n",
              "    </tr>\n",
              "  </tbody>\n",
              "</table>\n",
              "</div>\n",
              "    <div class=\"colab-df-buttons\">\n",
              "\n",
              "  <div class=\"colab-df-container\">\n",
              "    <button class=\"colab-df-convert\" onclick=\"convertToInteractive('df-1257d7bc-0ab8-4d8c-8580-4a74ac678766')\"\n",
              "            title=\"Convert this dataframe to an interactive table.\"\n",
              "            style=\"display:none;\">\n",
              "\n",
              "  <svg xmlns=\"http://www.w3.org/2000/svg\" height=\"24px\" viewBox=\"0 -960 960 960\">\n",
              "    <path d=\"M120-120v-720h720v720H120Zm60-500h600v-160H180v160Zm220 220h160v-160H400v160Zm0 220h160v-160H400v160ZM180-400h160v-160H180v160Zm440 0h160v-160H620v160ZM180-180h160v-160H180v160Zm440 0h160v-160H620v160Z\"/>\n",
              "  </svg>\n",
              "    </button>\n",
              "\n",
              "  <style>\n",
              "    .colab-df-container {\n",
              "      display:flex;\n",
              "      gap: 12px;\n",
              "    }\n",
              "\n",
              "    .colab-df-convert {\n",
              "      background-color: #E8F0FE;\n",
              "      border: none;\n",
              "      border-radius: 50%;\n",
              "      cursor: pointer;\n",
              "      display: none;\n",
              "      fill: #1967D2;\n",
              "      height: 32px;\n",
              "      padding: 0 0 0 0;\n",
              "      width: 32px;\n",
              "    }\n",
              "\n",
              "    .colab-df-convert:hover {\n",
              "      background-color: #E2EBFA;\n",
              "      box-shadow: 0px 1px 2px rgba(60, 64, 67, 0.3), 0px 1px 3px 1px rgba(60, 64, 67, 0.15);\n",
              "      fill: #174EA6;\n",
              "    }\n",
              "\n",
              "    .colab-df-buttons div {\n",
              "      margin-bottom: 4px;\n",
              "    }\n",
              "\n",
              "    [theme=dark] .colab-df-convert {\n",
              "      background-color: #3B4455;\n",
              "      fill: #D2E3FC;\n",
              "    }\n",
              "\n",
              "    [theme=dark] .colab-df-convert:hover {\n",
              "      background-color: #434B5C;\n",
              "      box-shadow: 0px 1px 3px 1px rgba(0, 0, 0, 0.15);\n",
              "      filter: drop-shadow(0px 1px 2px rgba(0, 0, 0, 0.3));\n",
              "      fill: #FFFFFF;\n",
              "    }\n",
              "  </style>\n",
              "\n",
              "    <script>\n",
              "      const buttonEl =\n",
              "        document.querySelector('#df-1257d7bc-0ab8-4d8c-8580-4a74ac678766 button.colab-df-convert');\n",
              "      buttonEl.style.display =\n",
              "        google.colab.kernel.accessAllowed ? 'block' : 'none';\n",
              "\n",
              "      async function convertToInteractive(key) {\n",
              "        const element = document.querySelector('#df-1257d7bc-0ab8-4d8c-8580-4a74ac678766');\n",
              "        const dataTable =\n",
              "          await google.colab.kernel.invokeFunction('convertToInteractive',\n",
              "                                                    [key], {});\n",
              "        if (!dataTable) return;\n",
              "\n",
              "        const docLinkHtml = 'Like what you see? Visit the ' +\n",
              "          '<a target=\"_blank\" href=https://colab.research.google.com/notebooks/data_table.ipynb>data table notebook</a>'\n",
              "          + ' to learn more about interactive tables.';\n",
              "        element.innerHTML = '';\n",
              "        dataTable['output_type'] = 'display_data';\n",
              "        await google.colab.output.renderOutput(dataTable, element);\n",
              "        const docLink = document.createElement('div');\n",
              "        docLink.innerHTML = docLinkHtml;\n",
              "        element.appendChild(docLink);\n",
              "      }\n",
              "    </script>\n",
              "  </div>\n",
              "\n",
              "\n",
              "<div id=\"df-b7ce75e5-cce9-466d-9e0f-b1a072cda7fb\">\n",
              "  <button class=\"colab-df-quickchart\" onclick=\"quickchart('df-b7ce75e5-cce9-466d-9e0f-b1a072cda7fb')\"\n",
              "            title=\"Suggest charts\"\n",
              "            style=\"display:none;\">\n",
              "\n",
              "<svg xmlns=\"http://www.w3.org/2000/svg\" height=\"24px\"viewBox=\"0 0 24 24\"\n",
              "     width=\"24px\">\n",
              "    <g>\n",
              "        <path d=\"M19 3H5c-1.1 0-2 .9-2 2v14c0 1.1.9 2 2 2h14c1.1 0 2-.9 2-2V5c0-1.1-.9-2-2-2zM9 17H7v-7h2v7zm4 0h-2V7h2v10zm4 0h-2v-4h2v4z\"/>\n",
              "    </g>\n",
              "</svg>\n",
              "  </button>\n",
              "\n",
              "<style>\n",
              "  .colab-df-quickchart {\n",
              "      --bg-color: #E8F0FE;\n",
              "      --fill-color: #1967D2;\n",
              "      --hover-bg-color: #E2EBFA;\n",
              "      --hover-fill-color: #174EA6;\n",
              "      --disabled-fill-color: #AAA;\n",
              "      --disabled-bg-color: #DDD;\n",
              "  }\n",
              "\n",
              "  [theme=dark] .colab-df-quickchart {\n",
              "      --bg-color: #3B4455;\n",
              "      --fill-color: #D2E3FC;\n",
              "      --hover-bg-color: #434B5C;\n",
              "      --hover-fill-color: #FFFFFF;\n",
              "      --disabled-bg-color: #3B4455;\n",
              "      --disabled-fill-color: #666;\n",
              "  }\n",
              "\n",
              "  .colab-df-quickchart {\n",
              "    background-color: var(--bg-color);\n",
              "    border: none;\n",
              "    border-radius: 50%;\n",
              "    cursor: pointer;\n",
              "    display: none;\n",
              "    fill: var(--fill-color);\n",
              "    height: 32px;\n",
              "    padding: 0;\n",
              "    width: 32px;\n",
              "  }\n",
              "\n",
              "  .colab-df-quickchart:hover {\n",
              "    background-color: var(--hover-bg-color);\n",
              "    box-shadow: 0 1px 2px rgba(60, 64, 67, 0.3), 0 1px 3px 1px rgba(60, 64, 67, 0.15);\n",
              "    fill: var(--button-hover-fill-color);\n",
              "  }\n",
              "\n",
              "  .colab-df-quickchart-complete:disabled,\n",
              "  .colab-df-quickchart-complete:disabled:hover {\n",
              "    background-color: var(--disabled-bg-color);\n",
              "    fill: var(--disabled-fill-color);\n",
              "    box-shadow: none;\n",
              "  }\n",
              "\n",
              "  .colab-df-spinner {\n",
              "    border: 2px solid var(--fill-color);\n",
              "    border-color: transparent;\n",
              "    border-bottom-color: var(--fill-color);\n",
              "    animation:\n",
              "      spin 1s steps(1) infinite;\n",
              "  }\n",
              "\n",
              "  @keyframes spin {\n",
              "    0% {\n",
              "      border-color: transparent;\n",
              "      border-bottom-color: var(--fill-color);\n",
              "      border-left-color: var(--fill-color);\n",
              "    }\n",
              "    20% {\n",
              "      border-color: transparent;\n",
              "      border-left-color: var(--fill-color);\n",
              "      border-top-color: var(--fill-color);\n",
              "    }\n",
              "    30% {\n",
              "      border-color: transparent;\n",
              "      border-left-color: var(--fill-color);\n",
              "      border-top-color: var(--fill-color);\n",
              "      border-right-color: var(--fill-color);\n",
              "    }\n",
              "    40% {\n",
              "      border-color: transparent;\n",
              "      border-right-color: var(--fill-color);\n",
              "      border-top-color: var(--fill-color);\n",
              "    }\n",
              "    60% {\n",
              "      border-color: transparent;\n",
              "      border-right-color: var(--fill-color);\n",
              "    }\n",
              "    80% {\n",
              "      border-color: transparent;\n",
              "      border-right-color: var(--fill-color);\n",
              "      border-bottom-color: var(--fill-color);\n",
              "    }\n",
              "    90% {\n",
              "      border-color: transparent;\n",
              "      border-bottom-color: var(--fill-color);\n",
              "    }\n",
              "  }\n",
              "</style>\n",
              "\n",
              "  <script>\n",
              "    async function quickchart(key) {\n",
              "      const quickchartButtonEl =\n",
              "        document.querySelector('#' + key + ' button');\n",
              "      quickchartButtonEl.disabled = true;  // To prevent multiple clicks.\n",
              "      quickchartButtonEl.classList.add('colab-df-spinner');\n",
              "      try {\n",
              "        const charts = await google.colab.kernel.invokeFunction(\n",
              "            'suggestCharts', [key], {});\n",
              "      } catch (error) {\n",
              "        console.error('Error during call to suggestCharts:', error);\n",
              "      }\n",
              "      quickchartButtonEl.classList.remove('colab-df-spinner');\n",
              "      quickchartButtonEl.classList.add('colab-df-quickchart-complete');\n",
              "    }\n",
              "    (() => {\n",
              "      let quickchartButtonEl =\n",
              "        document.querySelector('#df-b7ce75e5-cce9-466d-9e0f-b1a072cda7fb button');\n",
              "      quickchartButtonEl.style.display =\n",
              "        google.colab.kernel.accessAllowed ? 'block' : 'none';\n",
              "    })();\n",
              "  </script>\n",
              "</div>\n",
              "\n",
              "    </div>\n",
              "  </div>\n"
            ],
            "application/vnd.google.colaboratory.intrinsic+json": {
              "type": "dataframe",
              "variable_name": "zip_market_data",
              "summary": "{\n  \"name\": \"zip_market_data\",\n  \"rows\": 2382,\n  \"fields\": [\n    {\n      \"column\": \"ZIP_CODE\",\n      \"properties\": {\n        \"dtype\": \"Int64\",\n        \"num_unique_values\": 2382,\n        \"samples\": [\n          \"85209\",\n          \"98227\",\n          \"85193\"\n        ],\n        \"semantic_type\": \"\",\n        \"description\": \"\"\n      }\n    },\n    {\n      \"column\": \"MARKET_KEY\",\n      \"properties\": {\n        \"dtype\": \"Int64\",\n        \"num_unique_values\": 200,\n        \"samples\": [\n          \"633\",\n          \"531\",\n          \"33\"\n        ],\n        \"semantic_type\": \"\",\n        \"description\": \"\"\n      }\n    }\n  ]\n}"
            }
          },
          "metadata": {},
          "execution_count": 38
        }
      ],
      "source": [
        "# Get zip_to_market_unit_mapping Data from BigQuery\n",
        "\n",
        "zip_market_query = \"\"\"\n",
        "select * from `swire.zip_to_market_unit_mapping`\n",
        "\"\"\"\n",
        "# Execute the query\n",
        "zip_market_query_job = client.query(zip_market_query)\n",
        "\n",
        "# Get the results as a Pandas DataFrame\n",
        "zip_market_data = zip_market_query_job.to_dataframe()\n",
        "\n",
        "# Display Fact_market_demand data\n",
        "zip_market_data.head()"
      ]
    },
    {
      "cell_type": "code",
      "execution_count": 39,
      "metadata": {
        "colab": {
          "base_uri": "https://localhost:8080/"
        },
        "id": "J2MrkvvACMcw",
        "outputId": "ffdb9946-abc2-466a-babf-60d419e328d5"
      },
      "outputs": [
        {
          "output_type": "stream",
          "name": "stdout",
          "text": [
            "ZIP_CODE      0\n",
            "MARKET_KEY    0\n",
            "dtype: int64\n"
          ]
        }
      ],
      "source": [
        "# Check for missing values in Zip Market data\n",
        "print(zip_market_data.isnull().sum())"
      ]
    },
    {
      "cell_type": "markdown",
      "metadata": {
        "id": "zU8UclCrHB76"
      },
      "source": [
        "## 3.5.<a name=\"features\"></a> Feature Engineering"
      ]
    },
    {
      "cell_type": "markdown",
      "metadata": {
        "id": "AO3UpHpcHFfo"
      },
      "source": [
        "Before starting the Data Exploration, we want to include few of the new columns derived from the original data and added into the data."
      ]
    },
    {
      "cell_type": "markdown",
      "metadata": {
        "id": "biuimwlBB_6y"
      },
      "source": [
        "Let us join the Demographics data with the Zip_to_market Data to get the States for each of the Market keys. Since some Market_keys contain zipcodes of multiple states we divide states by '/' and keep it in one column named 'States'.\n",
        "\n",
        "Then we will attach the States column to the main fact_demand_data so that we get the states information for each of sales data.\n",
        "\n",
        "We will get all this from Bigquery to reduce the run time."
      ]
    },
    {
      "cell_type": "code",
      "execution_count": null,
      "metadata": {
        "id": "iOWGCKJGB_kv"
      },
      "outputs": [],
      "source": [
        "#Google Big Query\n",
        "ZMS_query = \"\"\"\n",
        "SELECT DISTINCT c.*, d.States\n",
        "FROM `is-6813-spring-24.swire.fact_market_demand` as c\n",
        "inner join\n",
        "( SELECT a.MARKET_KEY, STRING_AGG(DISTINCT b.State, '/') AS States\n",
        "FROM `is-6813-spring-24.swire.zip_to_market_unit_mapping` AS a\n",
        "INNER JOIN `is-6813-spring-24.swire.consumer_demographics` AS b\n",
        "ON b.Zip = a.ZIP_CODE\n",
        "GROUP BY a.MARKET_KEY )\n",
        "as d\n",
        "ON c.MARKET_KEY = d.MARKET_KEY\n",
        "ORDER BY c.DATE, c. MARKET_KEY, c.ITEM\n",
        "\"\"\"\n",
        "# Execute the query\n",
        "ZMS_job = client.query(ZMS_query)\n",
        "\n",
        "# Get the results as a Pandas DataFrame\n",
        "fact_demand_state_data = ZMS_job.to_dataframe()\n",
        "\n",
        "fact_demand_state_data.head()"
      ]
    },
    {
      "cell_type": "code",
      "execution_count": null,
      "metadata": {
        "id": "4WYoIa9NNlYe"
      },
      "outputs": [],
      "source": [
        "# Convert DATE column to datetime\n",
        "fact_demand_state_data['DATE'] = pd.to_datetime(fact_demand_state_data['DATE'])\n"
      ]
    },
    {
      "cell_type": "code",
      "execution_count": null,
      "metadata": {
        "id": "kQScjcwgOHei"
      },
      "outputs": [],
      "source": [
        "fact_demand_state_data.head()"
      ]
    },
    {
      "cell_type": "markdown",
      "metadata": {
        "id": "UZJgS33c48YU"
      },
      "source": [
        "##<a name=\"missing\"></a> 3.4. Missing Data"
      ]
    },
    {
      "cell_type": "markdown",
      "metadata": {
        "id": "0DGdChYKAtpj"
      },
      "source": [
        "Since both the Regular and Diet/light categories are equal we are unable to categorize the null value to any of the categories without disturbing the other data present. So, We can just replace that Null values with the string of 'Unknown', so that the data is not impacted."
      ]
    },
    {
      "cell_type": "code",
      "execution_count": null,
      "metadata": {
        "id": "jAO0ncaXBN5c"
      },
      "outputs": [],
      "source": [
        "# Handling missing values\n",
        "\n",
        "fact_demand_state_data['CALORIC_SEGMENT'].fillna('Unknown', inplace=True)"
      ]
    },
    {
      "cell_type": "code",
      "execution_count": null,
      "metadata": {
        "id": "qlCJDp5bByrR"
      },
      "outputs": [],
      "source": [
        "# checking for missing data again\n",
        "\n",
        "print(fact_demand_state_data.isnull().sum())"
      ]
    },
    {
      "cell_type": "code",
      "execution_count": null,
      "metadata": {
        "id": "7NvpFhYkHgVL"
      },
      "outputs": [],
      "source": [
        "# Handling missing values\n",
        "\n",
        "Fact_Demand_data['CALORIC_SEGMENT'].fillna('Unknown', inplace=True)"
      ]
    },
    {
      "cell_type": "code",
      "execution_count": 22,
      "metadata": {
        "id": "jUCMzlLOHgVL",
        "colab": {
          "base_uri": "https://localhost:8080/"
        },
        "outputId": "8df3f7bb-63ed-4937-beb6-002fa567b8e8"
      },
      "outputs": [
        {
          "output_type": "stream",
          "name": "stdout",
          "text": [
            "DATE               0\n",
            "MARKET_KEY         0\n",
            "CALORIC_SEGMENT    0\n",
            "CATEGORY           0\n",
            "UNIT_SALES         0\n",
            "DOLLAR_SALES       0\n",
            "MANUFACTURER       0\n",
            "BRAND              0\n",
            "PACKAGE            0\n",
            "ITEM               0\n",
            "dtype: int64\n"
          ]
        }
      ],
      "source": [
        "# checking for missing data again\n",
        "\n",
        "print(Fact_Demand_data.isnull().sum())"
      ]
    },
    {
      "cell_type": "markdown",
      "metadata": {
        "id": "slpXkP4QvD--"
      },
      "source": [
        "# 4. <a name=\"modeling\"></a> Modeling"
      ]
    },
    {
      "cell_type": "markdown",
      "source": [
        "First defining the required functions like missing_data and MAPE which will help us further in the Modeling Process and for finding the best model for Forecasting."
      ],
      "metadata": {
        "id": "1tfQ2NYgI1QJ"
      }
    },
    {
      "cell_type": "code",
      "execution_count": 23,
      "metadata": {
        "id": "YD8k8RupdCuH"
      },
      "outputs": [],
      "source": [
        "def missing_data(input_data):\n",
        "    '''\n",
        "    This function returns dataframe with information about the percentage of nulls in each column and the column data type.\n",
        "\n",
        "    input: pandas df\n",
        "    output: pandas df\n",
        "\n",
        "    '''\n",
        "\n",
        "    total = input_data.isnull().sum()\n",
        "    percent = (input_data.isnull().sum()/input_data.isnull().count()*100)\n",
        "    table = pd.concat([total, percent], axis = 1, keys = ['Total', 'Percent'])\n",
        "    types = []\n",
        "    for col in input_data.columns:\n",
        "        dtype = str(input_data[col].dtype)\n",
        "        types.append(dtype)\n",
        "    table[\"Types\"] = types\n",
        "    return(pd.DataFrame(table))\n",
        "\n",
        "def mape(actual, pred):\n",
        "    '''\n",
        "    Mean Absolute Percentage Error (MAPE) Function\n",
        "\n",
        "    input: list/series for actual values and predicted values\n",
        "    output: mape value\n",
        "    '''\n",
        "    actual, pred = np.array(actual), np.array(pred)\n",
        "    return np.mean(np.abs((actual - pred) / actual)) * 100\n"
      ]
    },
    {
      "cell_type": "markdown",
      "metadata": {
        "id": "Ww8PeCoYMtgL"
      },
      "source": [
        "## <a name = \"prophet\"> </a> 5.1. Prophet Model"
      ]
    },
    {
      "cell_type": "markdown",
      "metadata": {
        "id": "NG-YOltXQGoP"
      },
      "source": [
        "## <a name = \"holiday\"> </a> 5.1.1. Holiday Data"
      ]
    },
    {
      "cell_type": "markdown",
      "metadata": {
        "id": "NelSXXdbrLuy"
      },
      "source": [
        "First getting reading the holiday data for the US so that the pattern for the holidays can be understood. The lower window is for -2 so that it can consider 2 dys before the holiday and 1 for upper window, so that it can consider one day after the holiday"
      ]
    },
    {
      "cell_type": "code",
      "execution_count": null,
      "metadata": {
        "id": "Snj4xfUPQOmj"
      },
      "outputs": [],
      "source": [
        "#adding holiday data\n",
        "\n",
        "holiday = pd.DataFrame([])\n",
        "\n",
        "for date_, name in sorted(holidays.US(years=[2020,2021,2022,2023,2024]).items()):\n",
        "    holiday = pd.concat([holiday, pd.DataFrame({'ds': date_, 'holiday': \"US-Holidays\", 'lower_window': -2, 'upper_window': 1}, index=[0])], ignore_index=True)\n",
        "\n",
        "holiday['ds'] = pd.to_datetime(holiday['ds'], format='%Y-%m-%d', errors='ignore')\n",
        "holiday.head()"
      ]
    },
    {
      "cell_type": "code",
      "execution_count": null,
      "metadata": {
        "id": "kNbW9N2sIPcx"
      },
      "outputs": [],
      "source": [
        "#converting the column names to lower characters and replacing spaces by underscore\n",
        "fact_demand_state_data.columns = fact_demand_state_data.columns.str.replace(' ', '_').str.lower()\n",
        "\n",
        "#converting the date format to year-month-date\n",
        "fact_demand_state_data['date'] = pd.to_datetime(fact_demand_state_data['date'], format= \"%Y/%m/%d\")"
      ]
    },
    {
      "cell_type": "code",
      "execution_count": null,
      "metadata": {
        "id": "-gs1nN5pTaSZ"
      },
      "outputs": [],
      "source": [
        "# Finding the minimum and maximum dates in the data\n",
        "min(fact_demand_state_data['date']), max(fact_demand_state_data['date'])"
      ]
    },
    {
      "cell_type": "code",
      "execution_count": null,
      "metadata": {
        "id": "T-FoqSYIYoSo"
      },
      "outputs": [],
      "source": [
        "fact_demand_state_data.head()"
      ]
    },
    {
      "cell_type": "markdown",
      "metadata": {
        "id": "Rtvf-hXcwy7j"
      },
      "source": [
        "## <a name = \"Q1\"> </a> 5.1.2. Question 1"
      ]
    },
    {
      "cell_type": "markdown",
      "metadata": {
        "id": "WHXxpJT1V-mF"
      },
      "source": [
        "Writing the segments for the Qestion 1.  \n",
        "a. caloric Segment - Diet  \n",
        "b. Market Category - SSD   \n",
        "c. Manufacturer - Swire-CC  \n",
        "d. Brand - Diet Smash  \n",
        "e. Package Type - 11Small4One  \n",
        "f. Flavor - Plum"
      ]
    },
    {
      "cell_type": "markdown",
      "metadata": {
        "id": "dQsHWRfaFGJL"
      },
      "source": [
        "Now, checking which lines in the data will yield to the most closest for our forecast.\n",
        "\n",
        "\n",
        "\n"
      ]
    },
    {
      "cell_type": "code",
      "execution_count": null,
      "metadata": {
        "id": "XJtUC8qtYAfR"
      },
      "outputs": [],
      "source": [
        "\n",
        "q1_f1 = fact_demand_state_data['caloric_segment'] == 'DIET/LIGHT'\n",
        "q1_f2 = fact_demand_state_data['category'] == 'SSD'\n",
        "q1_f3 = fact_demand_state_data['brand'] == 'DIET SMASH'\n",
        "q1_f4 = fact_demand_state_data['item'].str.lower().str.contains('plum')\n",
        "\n",
        "filter_condition_q1 = (( q1_f1 & q1_f2 & q1_f3 ) | ( q1_f4 & q1_f2 & q1_f1 ))\n",
        "\n",
        "q1_df = fact_demand_state_data[filter_condition_q1]\n",
        "\n",
        "q1_df.head()"
      ]
    },
    {
      "cell_type": "code",
      "execution_count": null,
      "metadata": {
        "id": "t6idKQrgM6wu"
      },
      "outputs": [],
      "source": [
        "q1_df.shape"
      ]
    },
    {
      "cell_type": "code",
      "execution_count": null,
      "metadata": {
        "id": "mTuTH1TVc4Va"
      },
      "outputs": [],
      "source": [
        "min(q1_df['date']), max(q1_df['date'])"
      ]
    },
    {
      "cell_type": "code",
      "execution_count": null,
      "metadata": {
        "id": "9n3au7FTcizS"
      },
      "outputs": [],
      "source": [
        "q1_agg_df = q1_df.groupby(['date']).agg({'unit_sales': 'sum', 'item': 'nunique'}).reset_index().sort_values(['date'])\n",
        "q1_agg_df['unit_sales'] = q1_agg_df['unit_sales'] / q1_agg_df['item']\n",
        "q1_agg_df.drop(columns=['item'],inplace=True)\n"
      ]
    },
    {
      "cell_type": "code",
      "execution_count": null,
      "metadata": {
        "id": "vLySFT-Wjeaz"
      },
      "outputs": [],
      "source": [
        "#q1_agg_df = q1_df.groupby(['date']).agg({'unit_sales':'sum'}).reset_index().sort_values(['date'])"
      ]
    },
    {
      "cell_type": "code",
      "execution_count": null,
      "metadata": {
        "id": "Ak9P63ytkLxi"
      },
      "outputs": [],
      "source": [
        "q1_agg_df.head()"
      ]
    },
    {
      "cell_type": "code",
      "execution_count": null,
      "metadata": {
        "id": "1TmA7ezIlMk8"
      },
      "outputs": [],
      "source": [
        "# @title date vs sum of unit_sales\n",
        "\n",
        "from matplotlib import pyplot as plt\n",
        "import seaborn as sns\n",
        "def _plot_series(series, series_name, series_index=0):\n",
        "  palette = list(sns.palettes.mpl_palette('Dark2'))\n",
        "    # Aggregate sum of unit sales by date\n",
        "  summed = series.groupby('date')['unit_sales'].sum().reset_index()\n",
        "\n",
        "  xs = summed['date']\n",
        "  ys = summed['unit_sales']\n",
        "  plt.plot(xs, ys, label=series_name, color=palette[series_index % len(palette)])\n",
        "\n",
        "# Example usage:\n",
        "fig, ax = plt.subplots(figsize=(10, 5.2))\n",
        "df_sorted = q1_agg_df.sort_values('date', ascending=True)\n",
        "_plot_series(df_sorted, 'Sum of Unit Sales')\n",
        "sns.despine(fig=fig, ax=ax)\n",
        "plt.xlabel('Date')\n",
        "plt.ylabel('Sum of Unit Sales')\n",
        "plt.legend()\n",
        "plt.show()"
      ]
    },
    {
      "cell_type": "code",
      "execution_count": null,
      "metadata": {
        "id": "qA2NX9uSHaZr"
      },
      "outputs": [],
      "source": [
        "missing_data(q1_agg_df).head()"
      ]
    },
    {
      "cell_type": "code",
      "execution_count": null,
      "metadata": {
        "id": "wlHerI6hIUOg"
      },
      "outputs": [],
      "source": [
        "#total_sales_df1 = q1_agg_df.dropna()"
      ]
    },
    {
      "cell_type": "code",
      "execution_count": null,
      "metadata": {
        "id": "ulzgaL3LHGQp"
      },
      "outputs": [],
      "source": [
        "q1_agg_df.shape"
      ]
    },
    {
      "cell_type": "code",
      "execution_count": null,
      "metadata": {
        "id": "5DjuTJPbL11U"
      },
      "outputs": [],
      "source": [
        "Q1_sales_data_df = q1_agg_df[q1_agg_df.date<='2023-06-05']\n",
        "Q1_test_set_df = q1_agg_df[q1_agg_df.date>='2023-06-05']"
      ]
    },
    {
      "cell_type": "code",
      "execution_count": null,
      "metadata": {
        "id": "IrwD0QVLMmnu"
      },
      "outputs": [],
      "source": [
        "Q1_sales_data_df.shape"
      ]
    },
    {
      "cell_type": "code",
      "execution_count": null,
      "metadata": {
        "id": "PVtALTYSPyCN"
      },
      "outputs": [],
      "source": [
        "Q1_test_set_df.shape"
      ]
    },
    {
      "cell_type": "code",
      "execution_count": null,
      "metadata": {
        "id": "nu6ZQCsFMzdb"
      },
      "outputs": [],
      "source": [
        "changepoint_prior_scale_range = np.linspace(0.001, 0.5, num=5).tolist()\n",
        "print(changepoint_prior_scale_range)"
      ]
    },
    {
      "cell_type": "code",
      "execution_count": null,
      "metadata": {
        "id": "IWmHZMnnOEPz"
      },
      "outputs": [],
      "source": [
        "seasonality_prior_scale_range = np.linspace(0.01, 10, num=5).tolist()\n"
      ]
    },
    {
      "cell_type": "code",
      "execution_count": null,
      "metadata": {
        "id": "wY224HKUUney"
      },
      "outputs": [],
      "source": [
        "start_time = time.time()\n",
        "\n",
        "#category_df = Q1_sales_data_df[['date','unit_sales']]\n",
        "\n",
        "def best_params(category_df):\n",
        "    category_df.rename(columns={'date': 'ds', 'unit_sales': 'y'}, inplace=True)\n",
        "    category_df[[\"y\"]] = category_df[[\"y\"]].apply(pd.to_numeric)\n",
        "    category_df[\"ds\"] = pd.to_datetime(category_df[\"ds\"])\n",
        "\n",
        "    param_grid = {\n",
        "        \"changepoint_prior_scale\": changepoint_prior_scale_range,\n",
        "        \"seasonality_prior_scale\": seasonality_prior_scale_range }\n",
        "\n",
        "    # Generate all combinations of parameters\n",
        "    all_params = [dict(zip(param_grid.keys(), v)) for v in itertools.product(*param_grid.values())]\n",
        "    mapes = []\n",
        "\n",
        "    # Use cross validation to evaluate all parameters\n",
        "    for params in all_params:\n",
        "         m = Prophet(**params).fit(category_df)  # Fit model with given params\n",
        "         df_cv = cross_validation(m, initial=\"365 days\", period=\"30 days\", horizon = \"30 days\") #took parallel out\n",
        "         df_p = performance_metrics(df_cv, rolling_window=1)\n",
        "         mapes.append(df_p[\"mape\"].values[0])\n",
        "\n",
        "    # Find the best parameters\n",
        "    tuning_results = pd.DataFrame(all_params)\n",
        "    tuning_results[\"mape\"] = mapes\n",
        "\n",
        "    params_dict = dict(tuning_results.sort_values(\"mape\").reset_index(drop=True).iloc[0])\n",
        "\n",
        "    return params_dict\n",
        "\n",
        "params1_dict = best_params(Q1_sales_data_df)\n",
        "\n",
        "print(\"--- %s seconds ---\" % (time.time() - start_time))"
      ]
    },
    {
      "cell_type": "code",
      "execution_count": null,
      "metadata": {
        "id": "TUHdhCJ_ZfHc"
      },
      "outputs": [],
      "source": [
        "params1_dict\n"
      ]
    },
    {
      "cell_type": "code",
      "execution_count": null,
      "metadata": {
        "id": "YsSA8-e2YLt9"
      },
      "outputs": [],
      "source": [
        "prediction_days = 16\n",
        "forecast_start_date = max(Q1_sales_data_df.ds) - timedelta(prediction_days)"
      ]
    },
    {
      "cell_type": "code",
      "execution_count": null,
      "metadata": {
        "id": "Jn4FUJlkYVSL"
      },
      "outputs": [],
      "source": [
        "#PROPHET MODEL\n",
        "\n",
        "#model\n",
        "m = Prophet(changepoint_prior_scale=params1_dict['changepoint_prior_scale'],\n",
        "            seasonality_prior_scale=params1_dict['seasonality_prior_scale'],\n",
        "            holidays=holiday)\n",
        "\n",
        "m.fit(Q1_sales_data_df)\n",
        "\n",
        "future = m.make_future_dataframe(periods=52, freq='W-SAT')\n",
        "fcst_prophet_train = m.predict(future)\n",
        "\n",
        "filter = fcst_prophet_train['ds']>=forecast_start_date\n",
        "predicted_df = fcst_prophet_train[filter][['ds','yhat']]\n",
        "predicted_df = predicted_df.merge(Q1_sales_data_df)\n",
        "\n",
        "print(mape(predicted_df['y'],predicted_df['yhat']))"
      ]
    },
    {
      "cell_type": "code",
      "execution_count": null,
      "metadata": {
        "id": "gXzVgPLVTZjP"
      },
      "outputs": [],
      "source": [
        "print(forecast_start_date)"
      ]
    },
    {
      "cell_type": "code",
      "execution_count": null,
      "metadata": {
        "id": "qS7k2oO7T29w"
      },
      "outputs": [],
      "source": [
        "fig1 = m.plot(fcst_prophet_train)\n",
        "fig2 = m.plot_components(fcst_prophet_train)\n",
        "\n",
        "forecasted_df = fcst_prophet_train[fcst_prophet_train['ds']>=forecast_start_date]\n"
      ]
    },
    {
      "cell_type": "code",
      "execution_count": null,
      "metadata": {
        "id": "TqhgMnR1e5Op"
      },
      "outputs": [],
      "source": [
        "forecast_start_date = '2023-06-05'\n",
        "\n",
        "future = m.make_future_dataframe(periods=16, freq='W-SAT')\n",
        "fcst_prophet_train = m.predict(future)\n",
        "\n",
        "filter = fcst_prophet_train['ds']>=forecast_start_date\n",
        "predicted_df = fcst_prophet_train[filter][['ds','yhat']]\n",
        "\n",
        "\n",
        "\n",
        "# Calculate Mean Absolute Percentage Error (MAPE)\n",
        "mape_v = mape(Q1_test_set_df['unit_sales'],predicted_df['yhat'])\n",
        "\n",
        "\n",
        "# Calculate Mean Absolute Error (MAE)\n",
        "mae = mean_absolute_error(Q1_test_set_df['unit_sales'],predicted_df['yhat'])\n",
        "\n",
        "# Calculate Mean Squared Error (MSE)\n",
        "mse = mean_squared_error(Q1_test_set_df['unit_sales'],predicted_df['yhat'])\n",
        "\n",
        "# Calculate Root Mean Squared Error (RMSE)\n",
        "rmse = np.sqrt(mse)\n",
        "\n",
        "# Calculate R-squared (R2)\n",
        "r2 = r2_score(Q1_test_set_df['unit_sales'],predicted_df['yhat'])\n",
        "\n",
        "print(f\"-----------------------Features---------------------------\")\n",
        "\n",
        "print(f'Mean Absolute Error- MAE: {mae}')\n",
        "print(f'Mean Squared Error- MSE: {mse}')\n",
        "print(f'Root Mean Square Error- RMSE: {rmse}')\n",
        "print(f'R2:R-squared{r2}')\n",
        "print(f'Mean Absolute Percentage Error- MAPE: {mape_v}')"
      ]
    },
    {
      "cell_type": "code",
      "execution_count": null,
      "metadata": {
        "id": "2RT_nzxKYCnK"
      },
      "outputs": [],
      "source": [
        "forecast_start_date = '2023-12-30'\n",
        "\n",
        "future = m.make_future_dataframe(periods=85, freq='W-SAT')\n",
        "fcst_prophet_train = m.predict(future)\n",
        "\n",
        "filter = fcst_prophet_train['ds']>=forecast_start_date\n",
        "predicted_13_df = fcst_prophet_train[filter][['ds','yhat']]\n",
        "\n",
        "predicted_13_df.tail()"
      ]
    },
    {
      "cell_type": "code",
      "execution_count": null,
      "metadata": {
        "id": "UuMT9o1RZXhH"
      },
      "outputs": [],
      "source": [
        "# Initialize variables to store the maximum sum and its corresponding index\n",
        "max_sum = float('-inf')\n",
        "max_index = -1\n",
        "\n",
        "# Calculate the sum of the first 13 values as the initial maximum sum\n",
        "current_sum = predicted_13_df['yhat'].iloc[:13].sum()\n",
        "\n",
        "# Iterate through the DataFrame to find the maximum sum\n",
        "for i in range(len(predicted_13_df) - 13):\n",
        "    if current_sum > max_sum:\n",
        "        max_sum = current_sum\n",
        "        max_index = i\n",
        "\n",
        "    # Update the sum for the next window\n",
        "    current_sum = current_sum - predicted_13_df['yhat'].iloc[i] + predicted_13_df['yhat'].iloc[i + 13]\n",
        "\n",
        "# Print the maximum sum and its corresponding index\n",
        "print(\"Maximum sum:\", max_sum)\n",
        "print(\"Index of the first element in the set:\", max_index)\n",
        "\n",
        "print(\"Date of the start of the 13th year:\", predicted_13_df['ds'].iloc[max_index])\n",
        "\n",
        "print(predicted_13_df.iloc[max_index:max_index+13])\n"
      ]
    },
    {
      "cell_type": "markdown",
      "metadata": {
        "id": "mC7yU2XCalZi"
      },
      "source": [
        "From the above Forecast and the calculations the 13 weeks that would perform the best in the market is the week from 19th October,2024 to 18th January, 2025. The total forecast in demand in unit sales for those weeks is estimated to be 117786.38"
      ]
    },
    {
      "cell_type": "markdown",
      "metadata": {
        "id": "jVmVb7OLW2WQ"
      },
      "source": [
        "## <a name = \"Q2\"> </a> 5.3. Question 2"
      ]
    },
    {
      "cell_type": "markdown",
      "metadata": {
        "id": "s-Kw03KJAotK"
      },
      "source": [
        "Writing the segments for the Qestion 2.  \n",
        "a. caloric Segment - Regular  \n",
        "b. Market Category - SSD   \n",
        "c. Manufacturer - Swire-CC  \n",
        "d. Brand - Sparkling Jacceptabletlester  \n",
        "e. Package Type - 11Small MLT  \n",
        "f. Flavor - Avocado"
      ]
    },
    {
      "cell_type": "code",
      "execution_count": null,
      "metadata": {
        "id": "vU8mXYnzW16H"
      },
      "outputs": [],
      "source": [
        "q2_f1 = fact_demand_state_data['caloric_segment'] == 'REGULAR'\n",
        "q2_f2 = fact_demand_state_data['category'] == 'SSD'\n",
        "q2_f3 = fact_demand_state_data['manufacturer'].str.lower().str.contains('swire')\n",
        "q2_f4 = fact_demand_state_data['item'].str.lower().str.contains('avocado')\n",
        "\n",
        "filter_condition_q2 = ( q2_f1 & q2_f2 & q2_f3 & q2_f4 )\n",
        "\n",
        "q2_df = fact_demand_state_data[filter_condition_q2]\n",
        "\n",
        "q2_df.head()"
      ]
    },
    {
      "cell_type": "code",
      "execution_count": null,
      "metadata": {
        "id": "tQZH4i1OW1g1"
      },
      "outputs": [],
      "source": [
        "q2_df.shape"
      ]
    },
    {
      "cell_type": "code",
      "execution_count": null,
      "metadata": {
        "id": "A9z-njSpDUTF"
      },
      "outputs": [],
      "source": [
        "min(q2_df['date']), max(q2_df['date'])"
      ]
    },
    {
      "cell_type": "code",
      "execution_count": null,
      "metadata": {
        "id": "EWjWWi8LD_Yj"
      },
      "outputs": [],
      "source": [
        "#q2_agg_df = q2_df.groupby(['date']).agg({'unit_sales':'sum'}).reset_index().sort_values(['date'])\n",
        "\n",
        "q2_agg_df = q2_df.groupby(['date']).agg({'unit_sales': 'sum', 'item': 'nunique'}).reset_index().sort_values(['date'])\n",
        "q2_agg_df['unit_sales'] = q2_agg_df['unit_sales'] / q2_agg_df['item']\n",
        "q2_agg_df.drop(columns=['item'],inplace=True)\n"
      ]
    },
    {
      "cell_type": "code",
      "execution_count": null,
      "metadata": {
        "id": "9Yg9fPzPEaDC"
      },
      "outputs": [],
      "source": [
        "q2_agg_df.head()"
      ]
    },
    {
      "cell_type": "code",
      "execution_count": null,
      "metadata": {
        "id": "MUuJJn2dEpOr"
      },
      "outputs": [],
      "source": [
        "# @title date vs sum of unit_sales for Q2\n",
        "\n",
        "from matplotlib import pyplot as plt\n",
        "import seaborn as sns\n",
        "def _plot_series(series, series_name, series_index=0):\n",
        "  palette = list(sns.palettes.mpl_palette('Dark2'))\n",
        "    # Aggregate sum of unit sales by date\n",
        "  summed = series.groupby('date')['unit_sales'].sum().reset_index()\n",
        "\n",
        "  xs = summed['date']\n",
        "  ys = summed['unit_sales']\n",
        "  plt.plot(xs, ys, label=series_name, color=palette[series_index % len(palette)])\n",
        "\n",
        "# Example usage:\n",
        "fig, ax = plt.subplots(figsize=(10, 5.2))\n",
        "df_sorted = q2_agg_df.sort_values('date', ascending=True)\n",
        "_plot_series(df_sorted, 'Sum of Unit Sales')\n",
        "sns.despine(fig=fig, ax=ax)\n",
        "plt.xlabel('Date')\n",
        "plt.ylabel('Sum of Unit Sales')\n",
        "plt.legend()\n",
        "plt.show()"
      ]
    },
    {
      "cell_type": "code",
      "execution_count": null,
      "metadata": {
        "id": "C0hkfVgxFcR3"
      },
      "outputs": [],
      "source": [
        "Q2_sales_data_df = q2_agg_df[q2_agg_df.date<='2023-06-05']\n",
        "Q2_test_set_df = q2_agg_df[q2_agg_df.date>='2023-06-05']"
      ]
    },
    {
      "cell_type": "code",
      "execution_count": null,
      "metadata": {
        "id": "63fFsifAOwSh"
      },
      "outputs": [],
      "source": [
        "Q2_sales_data_df.head()"
      ]
    },
    {
      "cell_type": "code",
      "execution_count": null,
      "metadata": {
        "id": "lvytyhZHFukg"
      },
      "outputs": [],
      "source": [
        "changepoint_prior_scale_range = np.linspace(0.001, 0.5, num=5).tolist()\n",
        "seasonality_prior_scale_range = np.linspace(0.001, 0.5, num=5).tolist()"
      ]
    },
    {
      "cell_type": "code",
      "execution_count": null,
      "metadata": {
        "id": "FQit8nx7GBdQ"
      },
      "outputs": [],
      "source": [
        "# getting the best parametes for Question 2\n",
        "params_dict2 = best_params(Q2_sales_data_df)"
      ]
    },
    {
      "cell_type": "code",
      "execution_count": null,
      "metadata": {
        "id": "2zA7dAkOKFI3"
      },
      "outputs": [],
      "source": [
        "params_dict2"
      ]
    },
    {
      "cell_type": "code",
      "execution_count": null,
      "metadata": {
        "id": "JLS7elTPLvcF"
      },
      "outputs": [],
      "source": [
        "prediction_days = 16\n",
        "forecast_start_date2 = max(Q2_sales_data_df.ds) - timedelta(prediction_days)\n",
        "\n",
        "category_df2 = Q2_sales_data_df[['ds','y']]\n",
        "\n",
        "\n",
        "#PROPHET MODEL\n",
        "\n",
        "#model\n",
        "m2 = Prophet(changepoint_prior_scale=params_dict2['changepoint_prior_scale'],\n",
        "            seasonality_prior_scale=params_dict2['seasonality_prior_scale'],\n",
        "            holidays=holiday)\n",
        "\n",
        "m2.fit(category_df2)\n",
        "\n",
        "future2 = m2.make_future_dataframe(periods=78, freq='W-SAT')\n",
        "fcst_prophet_train2 = m2.predict(future2)\n",
        "\n",
        "filter = fcst_prophet_train2['ds']>=forecast_start_date2\n",
        "predicted_df2 = fcst_prophet_train2[filter][['ds','yhat']]\n",
        "predicted_df2 = predicted_df2.merge(category_df2)\n",
        "\n",
        "print(mape(predicted_df2['y'],predicted_df2['yhat']))"
      ]
    },
    {
      "cell_type": "code",
      "execution_count": null,
      "metadata": {
        "id": "ZwmixJInO7gv"
      },
      "outputs": [],
      "source": [
        "print(forecast_start_date2)"
      ]
    },
    {
      "cell_type": "code",
      "execution_count": null,
      "metadata": {
        "id": "GvHDprZAPDuU"
      },
      "outputs": [],
      "source": [
        "fig12 = m2.plot(fcst_prophet_train2)\n",
        "fig22 = m2.plot_components(fcst_prophet_train2)\n",
        "\n",
        "forecasted_df2 = fcst_prophet_train2[fcst_prophet_train2['ds']>=forecast_start_date2]"
      ]
    },
    {
      "cell_type": "code",
      "execution_count": null,
      "metadata": {
        "id": "AIDVL_eXSd_s"
      },
      "outputs": [],
      "source": [
        "forecast_start_date2 = '2023-06-05'\n",
        "\n",
        "future2 = m2.make_future_dataframe(periods=16, freq='W-SAT')\n",
        "fcst_prophet_train2 = m2.predict(future2)\n",
        "\n",
        "filter = fcst_prophet_train2['ds']>=forecast_start_date2\n",
        "predicted_df2 = fcst_prophet_train2[filter][['ds','yhat']]\n",
        "\n",
        "\n",
        "\n",
        "# Calculate Mean Absolute Percentage Error (MAPE)\n",
        "mape_2 = mape(Q2_test_set_df['unit_sales'],predicted_df2['yhat'])\n",
        "\n",
        "\n",
        "# Calculate Mean Absolute Error (MAE)\n",
        "mae2 = mean_absolute_error(Q2_test_set_df['unit_sales'],predicted_df2['yhat'])\n",
        "\n",
        "# Calculate Mean Squared Error (MSE)\n",
        "mse2 = mean_squared_error(Q2_test_set_df['unit_sales'],predicted_df2['yhat'])\n",
        "\n",
        "# Calculate Root Mean Squared Error (RMSE)\n",
        "rmse2 = np.sqrt(mse2)\n",
        "\n",
        "# Calculate R-squared (R2)\n",
        "r2_2 = r2_score(Q2_test_set_df['unit_sales'],predicted_df2['yhat'])\n",
        "\n",
        "print(f\"-----------------------Features---------------------------\")\n",
        "\n",
        "print(f'Mean Absolute Error- MAE: {mae2}')\n",
        "print(f'Mean Squared Error- MSE: {mse2}')\n",
        "print(f'Root Mean Square Error- RMSE: {rmse2}')\n",
        "print(f'R2:R-squared{r2_2}')\n",
        "print(f'Mean Absolute Percentage Error- MAPE: {mape_2}')"
      ]
    },
    {
      "cell_type": "code",
      "execution_count": null,
      "metadata": {
        "id": "E35lV89ij2p5"
      },
      "outputs": [],
      "source": [
        "forecast_start_date2_1 = \"2024-03-16\"\n",
        "\n",
        "future2_1 = m2.make_future_dataframe(periods=60, freq='W-SAT')\n",
        "fcst_prophet_train2_1 = m2.predict(future2_1)\n",
        "\n",
        "filter = fcst_prophet_train2_1['ds']>=forecast_start_date2_1\n",
        "predicted_df2_1 = fcst_prophet_train2_1[filter][['ds','yhat']]"
      ]
    },
    {
      "cell_type": "code",
      "execution_count": null,
      "metadata": {
        "id": "233hCbSbkZ1f"
      },
      "outputs": [],
      "source": [
        "predicted_df2_1.head(20)"
      ]
    },
    {
      "cell_type": "code",
      "execution_count": null,
      "metadata": {
        "id": "WzE8O6WFl2tX"
      },
      "outputs": [],
      "source": [
        "# @title Predicted Value over Time\n",
        "\n",
        "sns.lineplot(data=predicted_df2_1, x='ds', y='yhat')"
      ]
    },
    {
      "cell_type": "markdown",
      "metadata": {
        "id": "7Akpf9vWktmO"
      },
      "source": [
        "From the above forecast we can see that if the drink is released 2 weeks before ester the sales will be around 6700 units and continues to grow and fall following the pattern above and can be expected to reach the high demand around 9000 in the 10th week or can be discontinued in the 8th week when the demand reaches the lowest at 6300 after first peak."
      ]
    },
    {
      "cell_type": "markdown",
      "metadata": {
        "id": "48kjnOsAWiXL"
      },
      "source": [
        "## <a name = \"Q2\"> </a> 5.3. Question 3"
      ]
    },
    {
      "cell_type": "markdown",
      "metadata": {
        "id": "gDLN0cv6WiXM"
      },
      "source": [
        "Writing the segments for the Qestion 3.  \n",
        "a. caloric Segment - Diet  \n",
        "b. Market Category - Energy   \n",
        "c. Manufacturer - Swire-CC  \n",
        "d. Brand - Venomous Blast  \n",
        "e. Package Type - 16 Liquid Small  \n",
        "f. Flavor - Kiwano"
      ]
    },
    {
      "cell_type": "code",
      "execution_count": null,
      "metadata": {
        "id": "SuQz4-XPWiXM"
      },
      "outputs": [],
      "source": [
        "q3_f1 = fact_demand_state_data['caloric_segment'] == 'DIET/LIGHT'\n",
        "q3_f2 = fact_demand_state_data['category'] == 'ENERGY'\n",
        "q3_f3 = fact_demand_state_data['manufacturer'].str.lower().str.contains('swire')\n",
        "q3_f4 = fact_demand_state_data['item'].str.lower().str.contains('kiwano')\n",
        "q3_f5 = fact_demand_state_data['brand'].str.lower().str.contains('venomous blast')\n",
        "\n",
        "filter_condition_q3 = ( q3_f1 & q3_f2 & q3_f3 & q3_f4 & q3_f5 )\n",
        "\n",
        "q3_df = fact_demand_state_data[filter_condition_q3]\n",
        "\n",
        "q3_df.head()"
      ]
    },
    {
      "cell_type": "code",
      "execution_count": null,
      "metadata": {
        "id": "Cd66WaJHWiXM"
      },
      "outputs": [],
      "source": [
        "q3_df.shape"
      ]
    },
    {
      "cell_type": "code",
      "execution_count": null,
      "metadata": {
        "id": "5BBCaC1PWiXM"
      },
      "outputs": [],
      "source": [
        "min(q3_df['date']), max(q3_df['date'])"
      ]
    },
    {
      "cell_type": "code",
      "execution_count": null,
      "metadata": {
        "id": "aMAZYjI8WiXN"
      },
      "outputs": [],
      "source": [
        "#q2_agg_df = q2_df.groupby(['date']).agg({'unit_sales':'sum'}).reset_index().sort_values(['date'])\n",
        "q3_agg_df = q3_df.groupby(['date']).agg({'unit_sales': 'sum', 'item': 'nunique'}).reset_index().sort_values(['date'])\n",
        "q3_agg_df['unit_sales'] = q3_agg_df['unit_sales'] / q3_agg_df['item']\n",
        "q3_agg_df.drop(columns=['item'],inplace=True)"
      ]
    },
    {
      "cell_type": "code",
      "execution_count": null,
      "metadata": {
        "id": "k2Jrg6KBWiXN"
      },
      "outputs": [],
      "source": [
        "q3_agg_df.head()"
      ]
    },
    {
      "cell_type": "code",
      "execution_count": null,
      "metadata": {
        "id": "O3MlNuXjWiXN"
      },
      "outputs": [],
      "source": [
        "# @title date vs sum of unit_sales for Q2\n",
        "\n",
        "from matplotlib import pyplot as plt\n",
        "import seaborn as sns\n",
        "def _plot_series(series, series_name, series_index=0):\n",
        "  palette = list(sns.palettes.mpl_palette('Dark2'))\n",
        "    # Aggregate sum of unit sales by date\n",
        "  summed = series.groupby('date')['unit_sales'].sum().reset_index()\n",
        "\n",
        "  xs = summed['date']\n",
        "  ys = summed['unit_sales']\n",
        "  plt.plot(xs, ys, label=series_name, color=palette[series_index % len(palette)])\n",
        "\n",
        "# Example usage:\n",
        "fig, ax = plt.subplots(figsize=(10, 5.2))\n",
        "df_sorted = q3_agg_df.sort_values('date', ascending=True)\n",
        "_plot_series(df_sorted, 'Sum of Unit Sales')\n",
        "sns.despine(fig=fig, ax=ax)\n",
        "plt.xlabel('Date')\n",
        "plt.ylabel('Sum of Unit Sales')\n",
        "plt.legend()\n",
        "plt.show()"
      ]
    },
    {
      "cell_type": "code",
      "execution_count": null,
      "metadata": {
        "id": "F3re7e-zWiXN"
      },
      "outputs": [],
      "source": [
        "Q3_sales_data_df = q3_agg_df[q2_agg_df.date<='2023-06-05']\n",
        "Q3_test_set_df = q3_agg_df[q2_agg_df.date>='2023-06-05']"
      ]
    },
    {
      "cell_type": "code",
      "execution_count": null,
      "metadata": {
        "id": "4C7ju4yhWiXO"
      },
      "outputs": [],
      "source": [
        "Q3_sales_data_df.head()"
      ]
    },
    {
      "cell_type": "code",
      "execution_count": null,
      "metadata": {
        "id": "QOIgyMWmWiXN"
      },
      "outputs": [],
      "source": [
        "changepoint_prior_scale_range = np.linspace(0.001, 0.5, num=5).tolist()\n",
        "seasonality_prior_scale_range = np.linspace(0.001, 0.5, num=5).tolist()"
      ]
    },
    {
      "cell_type": "code",
      "execution_count": null,
      "metadata": {
        "id": "Ams5ObqxWiXN"
      },
      "outputs": [],
      "source": [
        "# getting the best parametes for Question 2\n",
        "params3_dict = best_params(Q3_sales_data_df)"
      ]
    },
    {
      "cell_type": "code",
      "execution_count": null,
      "metadata": {
        "id": "V6xAnCgzWiXO"
      },
      "outputs": [],
      "source": [
        "params3_dict"
      ]
    },
    {
      "cell_type": "code",
      "execution_count": null,
      "metadata": {
        "id": "2YQGX7r1WiXO"
      },
      "outputs": [],
      "source": [
        "prediction_days = 16\n",
        "forecast_start_date3 = max(Q3_sales_data_df.ds) - timedelta(prediction_days)\n",
        "\n",
        "category_df3 = Q3_sales_data_df[['ds','y']]\n",
        "\n",
        "\n",
        "#PROPHET MODEL\n",
        "\n",
        "#model\n",
        "m3 = Prophet(changepoint_prior_scale=params3_dict['changepoint_prior_scale'],\n",
        "            seasonality_prior_scale=params3_dict['seasonality_prior_scale'],\n",
        "            holidays=holiday)\n",
        "\n",
        "m3.fit(category_df3)\n",
        "\n",
        "future3 = m3.make_future_dataframe(periods=78, freq='W-SAT')\n",
        "fcst_prophet_train3 = m3.predict(future3)\n",
        "\n",
        "filter = fcst_prophet_train3['ds']>=forecast_start_date3\n",
        "predicted_df3 = fcst_prophet_train3[filter][['ds','yhat']]\n",
        "predicted_df3 = predicted_df3.merge(category_df3)\n",
        "\n",
        "print(mape(predicted_df3['y'],predicted_df3['yhat']))"
      ]
    },
    {
      "cell_type": "code",
      "execution_count": null,
      "metadata": {
        "id": "qK0d7Fp4WiXO"
      },
      "outputs": [],
      "source": [
        "print(forecast_start_date3)"
      ]
    },
    {
      "cell_type": "code",
      "execution_count": null,
      "metadata": {
        "id": "to-VtF1NWiXO"
      },
      "outputs": [],
      "source": [
        "fig12 = m3.plot(fcst_prophet_train3)\n",
        "fig22 = m3.plot_components(fcst_prophet_train3)\n",
        "\n",
        "forecasted_df3 = fcst_prophet_train3[fcst_prophet_train3['ds']>=forecast_start_date3]"
      ]
    },
    {
      "cell_type": "code",
      "source": [
        "Q3_test_set_df.head()"
      ],
      "metadata": {
        "id": "uWCRploIePh9"
      },
      "execution_count": null,
      "outputs": []
    },
    {
      "cell_type": "code",
      "source": [
        "Q3_test_set_df.shape"
      ],
      "metadata": {
        "id": "HFJq4SoFehrE"
      },
      "execution_count": null,
      "outputs": []
    },
    {
      "cell_type": "code",
      "execution_count": null,
      "metadata": {
        "id": "Hxn1ozeUWiXO"
      },
      "outputs": [],
      "source": [
        "forecast_start_date3 = '2023-07-08'\n",
        "\n",
        "future3 = m3.make_future_dataframe(periods=8, freq='W-SAT')\n",
        "fcst_prophet_train3 = m3.predict(future3)\n",
        "\n",
        "filter = fcst_prophet_train3['ds']>=forecast_start_date3\n",
        "predicted_df3 = fcst_prophet_train3[filter][['ds','yhat']]\n",
        "\n",
        "\n",
        "\n",
        "# Calculate Mean Absolute Percentage Error (MAPE)\n",
        "mape_3 = mape(Q3_test_set_df['unit_sales'],predicted_df3['yhat'])\n",
        "\n",
        "\n",
        "# Calculate Mean Absolute Error (MAE)\n",
        "mae3 = mean_absolute_error(Q3_test_set_df['unit_sales'],predicted_df3['yhat'])\n",
        "\n",
        "# Calculate Mean Squared Error (MSE)\n",
        "mse3 = mean_squared_error(Q3_test_set_df['unit_sales'],predicted_df3['yhat'])\n",
        "\n",
        "# Calculate Root Mean Squared Error (RMSE)\n",
        "rmse3 = np.sqrt(mse3)\n",
        "\n",
        "# Calculate R-squared (R2)\n",
        "r2_3 = r2_score(Q3_test_set_df['unit_sales'],predicted_df3['yhat'])\n",
        "\n",
        "print(f\"-----------------------Features---------------------------\")\n",
        "\n",
        "print(f'Mean Absolute Error- MAE: {mae3}')\n",
        "print(f'Mean Squared Error- MSE: {mse3}')\n",
        "print(f'Root Mean Square Error- RMSE: {rmse3}')\n",
        "print(f'R2:R-squared{r2_3}')\n",
        "print(f'Mean Absolute Percentage Error- MAPE: {mape_3}')"
      ]
    },
    {
      "cell_type": "markdown",
      "metadata": {
        "id": "amhGx_-e080H"
      },
      "source": [
        "# <a name = \"Conclusion\"> </a> 7. Conclusion"
      ]
    },
    {
      "cell_type": "markdown",
      "metadata": {
        "id": "9O2taPSq1Cvd"
      },
      "source": [
        "Overall, we found that the Prophet model is good as it provided the less MAPE value, which is the Percentage error for the Mean Absolute values. So when error is less that means that the model is good in predicting the"
      ]
    },
    {
      "cell_type": "markdown",
      "metadata": {
        "id": "vpUmgx8n42bR"
      },
      "source": [
        "# <a name = \"group\"> </a> 8. Group Member Contribution"
      ]
    },
    {
      "cell_type": "markdown",
      "metadata": {
        "id": "iqeionM143Iy"
      },
      "source": [
        "1. **Tom Kingston:**  \n",
        "\n",
        "\n",
        "2. **Sushma Sree Mutyapu:**\n",
        "\n",
        "\n",
        "3. **Sai Anogna Chittudi:** I have created the Prophet model for the Questions 1,2 and 3 along with Visulizations and hyperparameter tuning for each of the datasets seperately. Completed the Introduction and the data Preparation sections.\n",
        "\n",
        "4. **Greg Francom:**"
      ]
    }
  ],
  "metadata": {
    "colab": {
      "provenance": [],
      "machine_shape": "hm"
    },
    "kernelspec": {
      "display_name": "Python 3",
      "name": "python3"
    },
    "language_info": {
      "name": "python"
    }
  },
  "nbformat": 4,
  "nbformat_minor": 0
}